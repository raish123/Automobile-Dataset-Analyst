{
 "cells": [
  {
   "cell_type": "code",
   "execution_count": 1,
   "id": "cda84d46",
   "metadata": {},
   "outputs": [],
   "source": [
    "import numpy as np\n",
    "import pandas as pd\n",
    "import warnings\n",
    "warnings.filterwarnings('ignore')\n",
    "import seaborn as sb\n",
    "from matplotlib import pyplot as plt\n",
    "import sklearn\n",
    "from sklearn.preprocessing import LabelEncoder\n",
    "from sklearn.preprocessing import MinMaxScaler\n",
    "from sklearn.preprocessing import StandardScaler\n",
    "\n"
   ]
  },
  {
   "cell_type": "code",
   "execution_count": 2,
   "id": "a85eaf82",
   "metadata": {},
   "outputs": [
    {
     "data": {
      "text/html": [
       "<div>\n",
       "<style scoped>\n",
       "    .dataframe tbody tr th:only-of-type {\n",
       "        vertical-align: middle;\n",
       "    }\n",
       "\n",
       "    .dataframe tbody tr th {\n",
       "        vertical-align: top;\n",
       "    }\n",
       "\n",
       "    .dataframe thead th {\n",
       "        text-align: right;\n",
       "    }\n",
       "</style>\n",
       "<table border=\"1\" class=\"dataframe\">\n",
       "  <thead>\n",
       "    <tr style=\"text-align: right;\">\n",
       "      <th></th>\n",
       "      <th>symboling</th>\n",
       "      <th>normalized-losses</th>\n",
       "      <th>make</th>\n",
       "      <th>fuel-type</th>\n",
       "      <th>body-style</th>\n",
       "      <th>drive-wheels</th>\n",
       "      <th>engine-location</th>\n",
       "      <th>width</th>\n",
       "      <th>height</th>\n",
       "      <th>engine-type</th>\n",
       "      <th>engine-size</th>\n",
       "      <th>horsepower</th>\n",
       "      <th>city-mpg</th>\n",
       "      <th>highway-mpg</th>\n",
       "      <th>price</th>\n",
       "    </tr>\n",
       "  </thead>\n",
       "  <tbody>\n",
       "    <tr>\n",
       "      <th>0</th>\n",
       "      <td>3</td>\n",
       "      <td>?</td>\n",
       "      <td>alfa-romero</td>\n",
       "      <td>gas</td>\n",
       "      <td>convertible</td>\n",
       "      <td>rwd</td>\n",
       "      <td>front</td>\n",
       "      <td>64.1</td>\n",
       "      <td>48.8</td>\n",
       "      <td>dohc</td>\n",
       "      <td>130</td>\n",
       "      <td>111</td>\n",
       "      <td>21</td>\n",
       "      <td>27</td>\n",
       "      <td>13495</td>\n",
       "    </tr>\n",
       "    <tr>\n",
       "      <th>1</th>\n",
       "      <td>3</td>\n",
       "      <td>?</td>\n",
       "      <td>alfa-romero</td>\n",
       "      <td>gas</td>\n",
       "      <td>convertible</td>\n",
       "      <td>rwd</td>\n",
       "      <td>front</td>\n",
       "      <td>64.1</td>\n",
       "      <td>48.8</td>\n",
       "      <td>dohc</td>\n",
       "      <td>130</td>\n",
       "      <td>111</td>\n",
       "      <td>21</td>\n",
       "      <td>27</td>\n",
       "      <td>16500</td>\n",
       "    </tr>\n",
       "    <tr>\n",
       "      <th>2</th>\n",
       "      <td>1</td>\n",
       "      <td>?</td>\n",
       "      <td>alfa-romero</td>\n",
       "      <td>gas</td>\n",
       "      <td>hatchback</td>\n",
       "      <td>rwd</td>\n",
       "      <td>front</td>\n",
       "      <td>65.5</td>\n",
       "      <td>52.4</td>\n",
       "      <td>ohcv</td>\n",
       "      <td>152</td>\n",
       "      <td>154</td>\n",
       "      <td>19</td>\n",
       "      <td>26</td>\n",
       "      <td>16500</td>\n",
       "    </tr>\n",
       "    <tr>\n",
       "      <th>3</th>\n",
       "      <td>2</td>\n",
       "      <td>164</td>\n",
       "      <td>audi</td>\n",
       "      <td>gas</td>\n",
       "      <td>sedan</td>\n",
       "      <td>fwd</td>\n",
       "      <td>front</td>\n",
       "      <td>66.2</td>\n",
       "      <td>54.3</td>\n",
       "      <td>ohc</td>\n",
       "      <td>109</td>\n",
       "      <td>102</td>\n",
       "      <td>24</td>\n",
       "      <td>30</td>\n",
       "      <td>13950</td>\n",
       "    </tr>\n",
       "    <tr>\n",
       "      <th>4</th>\n",
       "      <td>2</td>\n",
       "      <td>164</td>\n",
       "      <td>audi</td>\n",
       "      <td>gas</td>\n",
       "      <td>sedan</td>\n",
       "      <td>4wd</td>\n",
       "      <td>front</td>\n",
       "      <td>66.4</td>\n",
       "      <td>54.3</td>\n",
       "      <td>ohc</td>\n",
       "      <td>136</td>\n",
       "      <td>115</td>\n",
       "      <td>18</td>\n",
       "      <td>22</td>\n",
       "      <td>17450</td>\n",
       "    </tr>\n",
       "    <tr>\n",
       "      <th>...</th>\n",
       "      <td>...</td>\n",
       "      <td>...</td>\n",
       "      <td>...</td>\n",
       "      <td>...</td>\n",
       "      <td>...</td>\n",
       "      <td>...</td>\n",
       "      <td>...</td>\n",
       "      <td>...</td>\n",
       "      <td>...</td>\n",
       "      <td>...</td>\n",
       "      <td>...</td>\n",
       "      <td>...</td>\n",
       "      <td>...</td>\n",
       "      <td>...</td>\n",
       "      <td>...</td>\n",
       "    </tr>\n",
       "    <tr>\n",
       "      <th>200</th>\n",
       "      <td>-1</td>\n",
       "      <td>95</td>\n",
       "      <td>volvo</td>\n",
       "      <td>gas</td>\n",
       "      <td>sedan</td>\n",
       "      <td>rwd</td>\n",
       "      <td>front</td>\n",
       "      <td>68.9</td>\n",
       "      <td>55.5</td>\n",
       "      <td>ohc</td>\n",
       "      <td>141</td>\n",
       "      <td>114</td>\n",
       "      <td>23</td>\n",
       "      <td>28</td>\n",
       "      <td>16845</td>\n",
       "    </tr>\n",
       "    <tr>\n",
       "      <th>201</th>\n",
       "      <td>-1</td>\n",
       "      <td>95</td>\n",
       "      <td>volvo</td>\n",
       "      <td>gas</td>\n",
       "      <td>sedan</td>\n",
       "      <td>rwd</td>\n",
       "      <td>front</td>\n",
       "      <td>68.8</td>\n",
       "      <td>55.5</td>\n",
       "      <td>ohc</td>\n",
       "      <td>141</td>\n",
       "      <td>160</td>\n",
       "      <td>19</td>\n",
       "      <td>25</td>\n",
       "      <td>19045</td>\n",
       "    </tr>\n",
       "    <tr>\n",
       "      <th>202</th>\n",
       "      <td>-1</td>\n",
       "      <td>95</td>\n",
       "      <td>volvo</td>\n",
       "      <td>gas</td>\n",
       "      <td>sedan</td>\n",
       "      <td>rwd</td>\n",
       "      <td>front</td>\n",
       "      <td>68.9</td>\n",
       "      <td>55.5</td>\n",
       "      <td>ohcv</td>\n",
       "      <td>173</td>\n",
       "      <td>134</td>\n",
       "      <td>18</td>\n",
       "      <td>23</td>\n",
       "      <td>21485</td>\n",
       "    </tr>\n",
       "    <tr>\n",
       "      <th>203</th>\n",
       "      <td>-1</td>\n",
       "      <td>95</td>\n",
       "      <td>volvo</td>\n",
       "      <td>diesel</td>\n",
       "      <td>sedan</td>\n",
       "      <td>rwd</td>\n",
       "      <td>front</td>\n",
       "      <td>68.9</td>\n",
       "      <td>55.5</td>\n",
       "      <td>ohc</td>\n",
       "      <td>145</td>\n",
       "      <td>106</td>\n",
       "      <td>26</td>\n",
       "      <td>27</td>\n",
       "      <td>22470</td>\n",
       "    </tr>\n",
       "    <tr>\n",
       "      <th>204</th>\n",
       "      <td>-1</td>\n",
       "      <td>95</td>\n",
       "      <td>volvo</td>\n",
       "      <td>gas</td>\n",
       "      <td>sedan</td>\n",
       "      <td>rwd</td>\n",
       "      <td>front</td>\n",
       "      <td>68.9</td>\n",
       "      <td>55.5</td>\n",
       "      <td>ohc</td>\n",
       "      <td>141</td>\n",
       "      <td>114</td>\n",
       "      <td>19</td>\n",
       "      <td>25</td>\n",
       "      <td>22625</td>\n",
       "    </tr>\n",
       "  </tbody>\n",
       "</table>\n",
       "<p>205 rows × 15 columns</p>\n",
       "</div>"
      ],
      "text/plain": [
       "     symboling normalized-losses         make fuel-type   body-style  \\\n",
       "0            3                 ?  alfa-romero       gas  convertible   \n",
       "1            3                 ?  alfa-romero       gas  convertible   \n",
       "2            1                 ?  alfa-romero       gas    hatchback   \n",
       "3            2               164         audi       gas        sedan   \n",
       "4            2               164         audi       gas        sedan   \n",
       "..         ...               ...          ...       ...          ...   \n",
       "200         -1                95        volvo       gas        sedan   \n",
       "201         -1                95        volvo       gas        sedan   \n",
       "202         -1                95        volvo       gas        sedan   \n",
       "203         -1                95        volvo    diesel        sedan   \n",
       "204         -1                95        volvo       gas        sedan   \n",
       "\n",
       "    drive-wheels engine-location  width  height engine-type  engine-size  \\\n",
       "0            rwd           front   64.1    48.8        dohc          130   \n",
       "1            rwd           front   64.1    48.8        dohc          130   \n",
       "2            rwd           front   65.5    52.4        ohcv          152   \n",
       "3            fwd           front   66.2    54.3         ohc          109   \n",
       "4            4wd           front   66.4    54.3         ohc          136   \n",
       "..           ...             ...    ...     ...         ...          ...   \n",
       "200          rwd           front   68.9    55.5         ohc          141   \n",
       "201          rwd           front   68.8    55.5         ohc          141   \n",
       "202          rwd           front   68.9    55.5        ohcv          173   \n",
       "203          rwd           front   68.9    55.5         ohc          145   \n",
       "204          rwd           front   68.9    55.5         ohc          141   \n",
       "\n",
       "    horsepower  city-mpg  highway-mpg  price  \n",
       "0          111        21           27  13495  \n",
       "1          111        21           27  16500  \n",
       "2          154        19           26  16500  \n",
       "3          102        24           30  13950  \n",
       "4          115        18           22  17450  \n",
       "..         ...       ...          ...    ...  \n",
       "200        114        23           28  16845  \n",
       "201        160        19           25  19045  \n",
       "202        134        18           23  21485  \n",
       "203        106        26           27  22470  \n",
       "204        114        19           25  22625  \n",
       "\n",
       "[205 rows x 15 columns]"
      ]
     },
     "execution_count": 2,
     "metadata": {},
     "output_type": "execute_result"
    }
   ],
   "source": [
    "#step:1   we r doing eda(exploratary data analysis)\n",
    "#how to open csv file in jupyter notebook with help of pandas library\n",
    "df=pd.read_csv('Automobile_data.csv')\n",
    "df"
   ]
  },
  {
   "cell_type": "code",
   "execution_count": 3,
   "id": "d228fdd7",
   "metadata": {},
   "outputs": [
    {
     "data": {
      "text/plain": [
       "symboling            0\n",
       "normalized-losses    0\n",
       "make                 0\n",
       "fuel-type            0\n",
       "body-style           0\n",
       "drive-wheels         0\n",
       "engine-location      0\n",
       "width                0\n",
       "height               0\n",
       "engine-type          0\n",
       "engine-size          0\n",
       "horsepower           0\n",
       "city-mpg             0\n",
       "highway-mpg          0\n",
       "price                0\n",
       "dtype: int64"
      ]
     },
     "execution_count": 3,
     "metadata": {},
     "output_type": "execute_result"
    }
   ],
   "source": [
    "#step2:  checking null value in given data set mei\n",
    "df.isnull().sum()\n",
    "#from below analysis we can say that ki no null value present in a given data set mei\n",
    "#agar null value hota koi column toh mujhe us null ko fill krna pdta\n",
    "#agar coloumn=contineous numeric data type value hota..........toh mei mean/median se fill kr deta\n",
    "#agar column=discrete/object/string data type value hota toh.......mei fill krta mode se"
   ]
  },
  {
   "cell_type": "code",
   "execution_count": 4,
   "id": "8d1de28a",
   "metadata": {},
   "outputs": [
    {
     "data": {
      "image/png": "[encoded data removed]",
      "text/plain": [
       "<Figure size 432x288 with 2 Axes>"
      ]
     },
     "metadata": {
      "needs_background": "light"
     },
     "output_type": "display_data"
    }
   ],
   "source": [
    "#if i want to visualize the null value how it can achieve \n",
    "#it achieve by using heatmap of seaborn library\n",
    "#below given its syntax:\n",
    "sb.heatmap(df.isnull())\n",
    "plt.show()\n",
    "#below graph we can clearly see that ki no null is present in this data set mei"
   ]
  },
  {
   "cell_type": "code",
   "execution_count": 5,
   "id": "6d45df24",
   "metadata": {},
   "outputs": [
    {
     "data": {
      "text/plain": [
       "symboling              int64\n",
       "normalized-losses     object\n",
       "make                  object\n",
       "fuel-type             object\n",
       "body-style            object\n",
       "drive-wheels          object\n",
       "engine-location       object\n",
       "width                float64\n",
       "height               float64\n",
       "engine-type           object\n",
       "engine-size            int64\n",
       "horsepower            object\n",
       "city-mpg               int64\n",
       "highway-mpg            int64\n",
       "price                  int64\n",
       "dtype: object"
      ]
     },
     "execution_count": 5,
     "metadata": {},
     "output_type": "execute_result"
    }
   ],
   "source": [
    "#now we r checking the dtypes of given dataset column ka by using inbuilt attributes dtypes of pandas library ka\n",
    "#and it shows columns ka dtypes\n",
    "df.dtypes"
   ]
  },
  {
   "cell_type": "markdown",
   "id": "fa40a0e3",
   "metadata": {},
   "source": [
    "#next step kya hai?: jo (attributes)dtypes se return aaya hai aab mujhe ek bar individually har ek column ko\n",
    "#check krna padegha manually....dtypes jo attributes se aaya hai same hai ki nahi......\n",
    "#agar same nahi hai....toh mujhe given dataset ke column ka dtype change krna padegh....\n",
    "#by using this syntax:\n",
    "df['column name jiska datatype change krna hai']=df['column name jiska datatype change krna hai'].astype('float/int')\n"
   ]
  },
  {
   "cell_type": "code",
   "execution_count": 6,
   "id": "1225df20",
   "metadata": {},
   "outputs": [
    {
     "data": {
      "text/html": [
       "<div>\n",
       "<style scoped>\n",
       "    .dataframe tbody tr th:only-of-type {\n",
       "        vertical-align: middle;\n",
       "    }\n",
       "\n",
       "    .dataframe tbody tr th {\n",
       "        vertical-align: top;\n",
       "    }\n",
       "\n",
       "    .dataframe thead th {\n",
       "        text-align: right;\n",
       "    }\n",
       "</style>\n",
       "<table border=\"1\" class=\"dataframe\">\n",
       "  <thead>\n",
       "    <tr style=\"text-align: right;\">\n",
       "      <th></th>\n",
       "      <th>symboling</th>\n",
       "      <th>normalized-losses</th>\n",
       "      <th>make</th>\n",
       "      <th>fuel-type</th>\n",
       "      <th>body-style</th>\n",
       "      <th>drive-wheels</th>\n",
       "      <th>engine-location</th>\n",
       "      <th>width</th>\n",
       "      <th>height</th>\n",
       "      <th>engine-type</th>\n",
       "      <th>engine-size</th>\n",
       "      <th>horsepower</th>\n",
       "      <th>city-mpg</th>\n",
       "      <th>highway-mpg</th>\n",
       "      <th>price</th>\n",
       "    </tr>\n",
       "  </thead>\n",
       "  <tbody>\n",
       "    <tr>\n",
       "      <th>189</th>\n",
       "      <td>3</td>\n",
       "      <td>?</td>\n",
       "      <td>volkswagen</td>\n",
       "      <td>gas</td>\n",
       "      <td>convertible</td>\n",
       "      <td>fwd</td>\n",
       "      <td>front</td>\n",
       "      <td>64.2</td>\n",
       "      <td>55.6</td>\n",
       "      <td>ohc</td>\n",
       "      <td>109</td>\n",
       "      <td>90</td>\n",
       "      <td>24</td>\n",
       "      <td>29</td>\n",
       "      <td>11595</td>\n",
       "    </tr>\n",
       "    <tr>\n",
       "      <th>142</th>\n",
       "      <td>0</td>\n",
       "      <td>102</td>\n",
       "      <td>subaru</td>\n",
       "      <td>gas</td>\n",
       "      <td>sedan</td>\n",
       "      <td>fwd</td>\n",
       "      <td>front</td>\n",
       "      <td>65.4</td>\n",
       "      <td>52.5</td>\n",
       "      <td>ohcf</td>\n",
       "      <td>108</td>\n",
       "      <td>82</td>\n",
       "      <td>28</td>\n",
       "      <td>33</td>\n",
       "      <td>7775</td>\n",
       "    </tr>\n",
       "    <tr>\n",
       "      <th>163</th>\n",
       "      <td>1</td>\n",
       "      <td>168</td>\n",
       "      <td>toyota</td>\n",
       "      <td>gas</td>\n",
       "      <td>sedan</td>\n",
       "      <td>rwd</td>\n",
       "      <td>front</td>\n",
       "      <td>64.0</td>\n",
       "      <td>52.6</td>\n",
       "      <td>ohc</td>\n",
       "      <td>98</td>\n",
       "      <td>70</td>\n",
       "      <td>29</td>\n",
       "      <td>34</td>\n",
       "      <td>8058</td>\n",
       "    </tr>\n",
       "    <tr>\n",
       "      <th>74</th>\n",
       "      <td>1</td>\n",
       "      <td>?</td>\n",
       "      <td>mercedes-benz</td>\n",
       "      <td>gas</td>\n",
       "      <td>hardtop</td>\n",
       "      <td>rwd</td>\n",
       "      <td>front</td>\n",
       "      <td>72.0</td>\n",
       "      <td>55.4</td>\n",
       "      <td>ohcv</td>\n",
       "      <td>304</td>\n",
       "      <td>184</td>\n",
       "      <td>14</td>\n",
       "      <td>16</td>\n",
       "      <td>45400</td>\n",
       "    </tr>\n",
       "    <tr>\n",
       "      <th>27</th>\n",
       "      <td>1</td>\n",
       "      <td>148</td>\n",
       "      <td>dodge</td>\n",
       "      <td>gas</td>\n",
       "      <td>sedan</td>\n",
       "      <td>fwd</td>\n",
       "      <td>front</td>\n",
       "      <td>63.8</td>\n",
       "      <td>50.6</td>\n",
       "      <td>ohc</td>\n",
       "      <td>98</td>\n",
       "      <td>102</td>\n",
       "      <td>24</td>\n",
       "      <td>30</td>\n",
       "      <td>8558</td>\n",
       "    </tr>\n",
       "    <tr>\n",
       "      <th>196</th>\n",
       "      <td>-2</td>\n",
       "      <td>103</td>\n",
       "      <td>volvo</td>\n",
       "      <td>gas</td>\n",
       "      <td>sedan</td>\n",
       "      <td>rwd</td>\n",
       "      <td>front</td>\n",
       "      <td>67.2</td>\n",
       "      <td>56.2</td>\n",
       "      <td>ohc</td>\n",
       "      <td>141</td>\n",
       "      <td>114</td>\n",
       "      <td>24</td>\n",
       "      <td>28</td>\n",
       "      <td>15985</td>\n",
       "    </tr>\n",
       "    <tr>\n",
       "      <th>78</th>\n",
       "      <td>2</td>\n",
       "      <td>161</td>\n",
       "      <td>mitsubishi</td>\n",
       "      <td>gas</td>\n",
       "      <td>hatchback</td>\n",
       "      <td>fwd</td>\n",
       "      <td>front</td>\n",
       "      <td>64.4</td>\n",
       "      <td>50.8</td>\n",
       "      <td>ohc</td>\n",
       "      <td>92</td>\n",
       "      <td>68</td>\n",
       "      <td>31</td>\n",
       "      <td>38</td>\n",
       "      <td>6669</td>\n",
       "    </tr>\n",
       "    <tr>\n",
       "      <th>0</th>\n",
       "      <td>3</td>\n",
       "      <td>?</td>\n",
       "      <td>alfa-romero</td>\n",
       "      <td>gas</td>\n",
       "      <td>convertible</td>\n",
       "      <td>rwd</td>\n",
       "      <td>front</td>\n",
       "      <td>64.1</td>\n",
       "      <td>48.8</td>\n",
       "      <td>dohc</td>\n",
       "      <td>130</td>\n",
       "      <td>111</td>\n",
       "      <td>21</td>\n",
       "      <td>27</td>\n",
       "      <td>13495</td>\n",
       "    </tr>\n",
       "    <tr>\n",
       "      <th>195</th>\n",
       "      <td>-1</td>\n",
       "      <td>74</td>\n",
       "      <td>volvo</td>\n",
       "      <td>gas</td>\n",
       "      <td>wagon</td>\n",
       "      <td>rwd</td>\n",
       "      <td>front</td>\n",
       "      <td>67.2</td>\n",
       "      <td>57.5</td>\n",
       "      <td>ohc</td>\n",
       "      <td>141</td>\n",
       "      <td>114</td>\n",
       "      <td>23</td>\n",
       "      <td>28</td>\n",
       "      <td>13415</td>\n",
       "    </tr>\n",
       "    <tr>\n",
       "      <th>105</th>\n",
       "      <td>3</td>\n",
       "      <td>194</td>\n",
       "      <td>nissan</td>\n",
       "      <td>gas</td>\n",
       "      <td>hatchback</td>\n",
       "      <td>rwd</td>\n",
       "      <td>front</td>\n",
       "      <td>67.9</td>\n",
       "      <td>49.7</td>\n",
       "      <td>ohcv</td>\n",
       "      <td>181</td>\n",
       "      <td>200</td>\n",
       "      <td>17</td>\n",
       "      <td>23</td>\n",
       "      <td>19699</td>\n",
       "    </tr>\n",
       "  </tbody>\n",
       "</table>\n",
       "</div>"
      ],
      "text/plain": [
       "     symboling normalized-losses           make fuel-type   body-style  \\\n",
       "189          3                 ?     volkswagen       gas  convertible   \n",
       "142          0               102         subaru       gas        sedan   \n",
       "163          1               168         toyota       gas        sedan   \n",
       "74           1                 ?  mercedes-benz       gas      hardtop   \n",
       "27           1               148          dodge       gas        sedan   \n",
       "196         -2               103          volvo       gas        sedan   \n",
       "78           2               161     mitsubishi       gas    hatchback   \n",
       "0            3                 ?    alfa-romero       gas  convertible   \n",
       "195         -1                74          volvo       gas        wagon   \n",
       "105          3               194         nissan       gas    hatchback   \n",
       "\n",
       "    drive-wheels engine-location  width  height engine-type  engine-size  \\\n",
       "189          fwd           front   64.2    55.6         ohc          109   \n",
       "142          fwd           front   65.4    52.5        ohcf          108   \n",
       "163          rwd           front   64.0    52.6         ohc           98   \n",
       "74           rwd           front   72.0    55.4        ohcv          304   \n",
       "27           fwd           front   63.8    50.6         ohc           98   \n",
       "196          rwd           front   67.2    56.2         ohc          141   \n",
       "78           fwd           front   64.4    50.8         ohc           92   \n",
       "0            rwd           front   64.1    48.8        dohc          130   \n",
       "195          rwd           front   67.2    57.5         ohc          141   \n",
       "105          rwd           front   67.9    49.7        ohcv          181   \n",
       "\n",
       "    horsepower  city-mpg  highway-mpg  price  \n",
       "189         90        24           29  11595  \n",
       "142         82        28           33   7775  \n",
       "163         70        29           34   8058  \n",
       "74         184        14           16  45400  \n",
       "27         102        24           30   8558  \n",
       "196        114        24           28  15985  \n",
       "78          68        31           38   6669  \n",
       "0          111        21           27  13495  \n",
       "195        114        23           28  13415  \n",
       "105        200        17           23  19699  "
      ]
     },
     "execution_count": 6,
     "metadata": {},
     "output_type": "execute_result"
    }
   ],
   "source": [
    "df.sample(10)"
   ]
  },
  {
   "cell_type": "code",
   "execution_count": 7,
   "id": "eecd53c1",
   "metadata": {},
   "outputs": [],
   "source": [
    "#from above we can clearly see that ki df['normalized-losses'] naam ka column hai uske andar jo row/records hai\n",
    "#woh integer value hai........lekin us column ka dtypes object bata raha hai why?\n",
    "#bcoz df['normalized-losses'] some one has used special character(eg:,.#@!-....soon)\n",
    "#as we now that string data type has more prescendence than other data type..........\n",
    "#thats why its showing discret/object data type column\n",
    "# now we have to check that ki in df['normalized-losses'] ka column hai\n",
    "#kon sa special character use hua hai"
   ]
  },
  {
   "cell_type": "code",
   "execution_count": 8,
   "id": "6cad54a6",
   "metadata": {},
   "outputs": [
    {
     "name": "stdout",
     "output_type": "stream",
     "text": [
      "0   ?\n",
      "1   ?\n",
      "2   ?\n",
      "5   ?\n",
      "7   ?\n",
      "9   ?\n",
      "14   ?\n",
      "15   ?\n",
      "16   ?\n",
      "17   ?\n",
      "43   ?\n",
      "44   ?\n",
      "45   ?\n",
      "46   ?\n",
      "48   ?\n",
      "49   ?\n",
      "63   ?\n",
      "66   ?\n",
      "71   ?\n",
      "73   ?\n",
      "74   ?\n",
      "75   ?\n",
      "82   ?\n",
      "83   ?\n",
      "84   ?\n",
      "109   ?\n",
      "110   ?\n",
      "113   ?\n",
      "114   ?\n",
      "124   ?\n",
      "126   ?\n",
      "127   ?\n",
      "128   ?\n",
      "129   ?\n",
      "130   ?\n",
      "131   ?\n",
      "181   ?\n",
      "189   ?\n",
      "191   ?\n",
      "192   ?\n",
      "193   ?\n",
      "the total no of special character is: 41\n"
     ]
    }
   ],
   "source": [
    "#now we r checking what type special character used in df['normalized-losses'] naam ke column mei\n",
    "#using python concept:\n",
    "x=df['normalized-losses']\n",
    "c=0\n",
    "for i,v in enumerate(x):\n",
    "    #print(i,v)\n",
    "    if not v.isnumeric():\n",
    "        print(i,\" \",v)\n",
    "        c+=1\n",
    "print(\"the total no of special character is:\",c)\n",
    "    "
   ]
  },
  {
   "cell_type": "code",
   "execution_count": 9,
   "id": "26e02e8a",
   "metadata": {},
   "outputs": [],
   "source": [
    "#step:3\n",
    "#now i am replacing the special character '?' from df['normalized-losses'] with null value by using numpy library\n",
    "#using replace inbuilt function of numpy library ka\n",
    "df['normalized-losses']=df['normalized-losses'].replace('?',np.nan)"
   ]
  },
  {
   "cell_type": "code",
   "execution_count": 10,
   "id": "b4e99bff",
   "metadata": {},
   "outputs": [],
   "source": [
    "#step:4\n",
    "#similarly df['horsepower'] naam ka column uska dtype object aa raha hai\n",
    "#lekin uske andar record integer show ho raha hai.....so iskey andar bhi shayad special character use hua hai\n",
    "#ab mujhe us special character replace krna hoga null value se\n"
   ]
  },
  {
   "cell_type": "code",
   "execution_count": 11,
   "id": "68606947",
   "metadata": {},
   "outputs": [
    {
     "name": "stdout",
     "output_type": "stream",
     "text": [
      "130   ?\n",
      "131   ?\n",
      "the total no of special character present in record: 2\n"
     ]
    }
   ],
   "source": [
    "#sab se phele check karengey kon sa special character present hai df['horsepower'] naam ke column mei\n",
    "x=df['horsepower']\n",
    "c=0\n",
    "for i,v in enumerate(x):\n",
    "    if not v.isnumeric():\n",
    "        print(i,\" \",v)\n",
    "        c+=1\n",
    "print(\"the total no of special character present in record:\",c)"
   ]
  },
  {
   "cell_type": "code",
   "execution_count": 12,
   "id": "8ab1cd66",
   "metadata": {},
   "outputs": [],
   "source": [
    "#now special character replace karengey with null valuse se\n",
    "df['horsepower']=df['horsepower'].replace('?',np.nan)"
   ]
  },
  {
   "cell_type": "code",
   "execution_count": 13,
   "id": "c7a547c5",
   "metadata": {},
   "outputs": [
    {
     "data": {
      "text/plain": [
       "symboling              int64\n",
       "normalized-losses     object\n",
       "make                  object\n",
       "fuel-type             object\n",
       "body-style            object\n",
       "drive-wheels          object\n",
       "engine-location       object\n",
       "width                float64\n",
       "height               float64\n",
       "engine-type           object\n",
       "engine-size            int64\n",
       "horsepower            object\n",
       "city-mpg               int64\n",
       "highway-mpg            int64\n",
       "price                  int64\n",
       "dtype: object"
      ]
     },
     "execution_count": 13,
     "metadata": {},
     "output_type": "execute_result"
    }
   ],
   "source": [
    "#finally ab check karengey dtypes of given dataset ka and null value of dataset ka\n",
    "df.dtypes"
   ]
  },
  {
   "cell_type": "code",
   "execution_count": 14,
   "id": "5b521783",
   "metadata": {},
   "outputs": [],
   "source": [
    "#lekin fir bhi normalised-losses column or horsepower ka column\n",
    "#object/discrete/string/categorical data type value show ho rha hai"
   ]
  },
  {
   "cell_type": "code",
   "execution_count": 15,
   "id": "f0fa3b14",
   "metadata": {},
   "outputs": [],
   "source": [
    "#ab mujhe object/discrete/string/categorical data type value convert krna hai integer ya float mei\n",
    "#how it can achieve using inbuilt function of astype('object/int/float') of pandas library ka\n",
    "#achieve by this syntax se:\n",
    "df['normalized-losses']=df['normalized-losses'].astype('float')\n"
   ]
  },
  {
   "cell_type": "code",
   "execution_count": 16,
   "id": "abba8e63",
   "metadata": {},
   "outputs": [
    {
     "data": {
      "text/plain": [
       "symboling              int64\n",
       "normalized-losses    float64\n",
       "make                  object\n",
       "fuel-type             object\n",
       "body-style            object\n",
       "drive-wheels          object\n",
       "engine-location       object\n",
       "width                float64\n",
       "height               float64\n",
       "engine-type           object\n",
       "engine-size            int64\n",
       "horsepower           float64\n",
       "city-mpg               int64\n",
       "highway-mpg            int64\n",
       "price                  int64\n",
       "dtype: object"
      ]
     },
     "execution_count": 16,
     "metadata": {},
     "output_type": "execute_result"
    }
   ],
   "source": [
    "#similarly i am changing horsepower column ke data type also by using builtin function astype()\n",
    "df['horsepower']=df['horsepower'].astype('float')\n",
    "df.dtypes"
   ]
  },
  {
   "cell_type": "code",
   "execution_count": 17,
   "id": "8e299ccb",
   "metadata": {},
   "outputs": [
    {
     "data": {
      "text/plain": [
       "symboling             0\n",
       "normalized-losses    41\n",
       "make                  0\n",
       "fuel-type             0\n",
       "body-style            0\n",
       "drive-wheels          0\n",
       "engine-location       0\n",
       "width                 0\n",
       "height                0\n",
       "engine-type           0\n",
       "engine-size           0\n",
       "horsepower            2\n",
       "city-mpg              0\n",
       "highway-mpg           0\n",
       "price                 0\n",
       "dtype: int64"
      ]
     },
     "execution_count": 17,
     "metadata": {},
     "output_type": "execute_result"
    }
   ],
   "source": [
    "#checking null value again\n",
    "df.isnull().sum()"
   ]
  },
  {
   "cell_type": "code",
   "execution_count": 18,
   "id": "523ef3a8",
   "metadata": {},
   "outputs": [
    {
     "data": {
      "image/png": "[encoded data removed]",
      "text/plain": [
       "<Figure size 432x288 with 2 Axes>"
      ]
     },
     "metadata": {
      "needs_background": "light"
     },
     "output_type": "display_data"
    }
   ],
   "source": [
    "#here we clearly see that ki normalized-losses mei aur horsepower naam ke column mei null value present hai!\n",
    "#if any one ask me to visualize the null value after whatever the change you have made it\n",
    "# so i am using heatmap graph of seaborn library for visualization of null value ke liye\n",
    "sb.heatmap(df.isnull())\n",
    "plt.show()\n",
    "#below white line clearly indicate that null value present in which column mei"
   ]
  },
  {
   "cell_type": "code",
   "execution_count": 19,
   "id": "9ed9e7d1",
   "metadata": {},
   "outputs": [
    {
     "data": {
      "text/plain": [
       "symboling             0.00000\n",
       "normalized-losses    20.00000\n",
       "make                  0.00000\n",
       "fuel-type             0.00000\n",
       "body-style            0.00000\n",
       "drive-wheels          0.00000\n",
       "engine-location       0.00000\n",
       "width                 0.00000\n",
       "height                0.00000\n",
       "engine-type           0.00000\n",
       "engine-size           0.00000\n",
       "horsepower            0.97561\n",
       "city-mpg              0.00000\n",
       "highway-mpg           0.00000\n",
       "price                 0.00000\n",
       "dtype: float64"
      ]
     },
     "execution_count": 19,
     "metadata": {},
     "output_type": "execute_result"
    }
   ],
   "source": [
    "#before filling the null value first i have to check the percentage of null value present in dataset mei\n",
    "#if null value in any column % coming out more than 50% so i can remove the column from given data set\n",
    "#by using drop() function of numpy library ka\n",
    "#if %is less than 50% so i can fill with mean/median/mode se\n",
    "df.isnull().sum()/df.shape[0]*100"
   ]
  },
  {
   "cell_type": "code",
   "execution_count": 20,
   "id": "f047cafa",
   "metadata": {},
   "outputs": [],
   "source": [
    "#here normalized-losses and horsepower showing null % less than 50%\n",
    "#now i have fill the null value with mean/median/mode se according to the data type of columns\n",
    "df['normalized-losses'].fillna(df['normalized-losses'].mean(),inplace=True)\n",
    "df['horsepower'].fillna(df['horsepower'].mean(),inplace=True)\n"
   ]
  },
  {
   "cell_type": "code",
   "execution_count": 21,
   "id": "aaf666d3",
   "metadata": {},
   "outputs": [
    {
     "data": {
      "text/plain": [
       "symboling            0\n",
       "normalized-losses    0\n",
       "make                 0\n",
       "fuel-type            0\n",
       "body-style           0\n",
       "drive-wheels         0\n",
       "engine-location      0\n",
       "width                0\n",
       "height               0\n",
       "engine-type          0\n",
       "engine-size          0\n",
       "horsepower           0\n",
       "city-mpg             0\n",
       "highway-mpg          0\n",
       "price                0\n",
       "dtype: int64"
      ]
     },
     "execution_count": 21,
     "metadata": {},
     "output_type": "execute_result"
    }
   ],
   "source": [
    "#now i am checking that ki null value fill hua hai kya mean/median/mode accoring to data type of column ke according\n",
    "df.isnull().sum()"
   ]
  },
  {
   "cell_type": "code",
   "execution_count": 22,
   "id": "61dc4f0e",
   "metadata": {},
   "outputs": [
    {
     "data": {
      "text/plain": [
       "0"
      ]
     },
     "execution_count": 22,
     "metadata": {},
     "output_type": "execute_result"
    }
   ],
   "source": [
    "#step : now we r checking any duplicate record present in data set mei\n",
    "#if its present then we have to remove the duplicate record\n",
    "#if not move forward \n",
    "#checking by using this syntax\n",
    "df.duplicated().sum()"
   ]
  },
  {
   "cell_type": "code",
   "execution_count": 23,
   "id": "8987a1ab",
   "metadata": {},
   "outputs": [],
   "source": [
    "#step:5 \n",
    "#know i have to check for outliers (any outlier present in any columns of data set mei)\n",
    "#for that i have to use boxplot() graph \n",
    "#boxplot graph we used to find the outlier in given data set mei\n",
    "#boxplot() graph we used only on contineous numeric data type value pe \n",
    "#boxplot is built in graph of seaborn library"
   ]
  },
  {
   "cell_type": "code",
   "execution_count": 24,
   "id": "1a672ab4",
   "metadata": {},
   "outputs": [
    {
     "data": {
      "text/plain": [
       "<AxesSubplot:xlabel='price'>"
      ]
     },
     "execution_count": 24,
     "metadata": {},
     "output_type": "execute_result"
    },
    {
     "data": {
      "image/png": "[encoded data removed]",
      "text/plain": [
       "<Figure size 432x288 with 1 Axes>"
      ]
     },
     "metadata": {
      "needs_background": "light"
     },
     "output_type": "display_data"
    }
   ],
   "source": [
    "sb.boxplot(data=df,x='price')"
   ]
  },
  {
   "cell_type": "code",
   "execution_count": 25,
   "id": "52638b14",
   "metadata": {},
   "outputs": [],
   "source": [
    "#from above box plot graph se we can clearly see that ki upper whisker se outlier of data\n",
    "#pblm is that we cant remove directly that outlier data without asking my seniors\n",
    "#according to my domain knowledge price is dependent variable and depend on different different output pe\n",
    "#domain knowlegde ke according i know that ki price is depend on brand car pe\n",
    "#biggerbrand means bigger price or vice versa\n",
    "#so i have to plot......boxplot graph for price vs brandcar(means:manufacturing)"
   ]
  },
  {
   "cell_type": "code",
   "execution_count": 26,
   "id": "36753420",
   "metadata": {},
   "outputs": [
    {
     "data": {
      "image/png": "[encoded data removed]",
      "text/plain": [
       "<Figure size 1152x648 with 1 Axes>"
      ]
     },
     "metadata": {
      "needs_background": "light"
     },
     "output_type": "display_data"
    }
   ],
   "source": [
    "plt.figure(figsize=(16,9))\n",
    "sb.boxplot(data=df,x='price',y='make')\n",
    "plt.show()"
   ]
  },
  {
   "cell_type": "code",
   "execution_count": 27,
   "id": "c6f1b68d",
   "metadata": {},
   "outputs": [
    {
     "data": {
      "text/html": [
       "<div>\n",
       "<style scoped>\n",
       "    .dataframe tbody tr th:only-of-type {\n",
       "        vertical-align: middle;\n",
       "    }\n",
       "\n",
       "    .dataframe tbody tr th {\n",
       "        vertical-align: top;\n",
       "    }\n",
       "\n",
       "    .dataframe thead th {\n",
       "        text-align: right;\n",
       "    }\n",
       "</style>\n",
       "<table border=\"1\" class=\"dataframe\">\n",
       "  <thead>\n",
       "    <tr style=\"text-align: right;\">\n",
       "      <th></th>\n",
       "      <th>symboling</th>\n",
       "      <th>normalized-losses</th>\n",
       "      <th>make</th>\n",
       "      <th>fuel-type</th>\n",
       "      <th>body-style</th>\n",
       "      <th>drive-wheels</th>\n",
       "      <th>engine-location</th>\n",
       "      <th>width</th>\n",
       "      <th>height</th>\n",
       "      <th>engine-type</th>\n",
       "      <th>engine-size</th>\n",
       "      <th>horsepower</th>\n",
       "      <th>city-mpg</th>\n",
       "      <th>highway-mpg</th>\n",
       "      <th>price</th>\n",
       "    </tr>\n",
       "  </thead>\n",
       "  <tbody>\n",
       "    <tr>\n",
       "      <th>172</th>\n",
       "      <td>2</td>\n",
       "      <td>134.0</td>\n",
       "      <td>toyota</td>\n",
       "      <td>gas</td>\n",
       "      <td>convertible</td>\n",
       "      <td>rwd</td>\n",
       "      <td>front</td>\n",
       "      <td>65.6</td>\n",
       "      <td>53.0</td>\n",
       "      <td>ohc</td>\n",
       "      <td>146</td>\n",
       "      <td>116.0</td>\n",
       "      <td>24</td>\n",
       "      <td>30</td>\n",
       "      <td>17669</td>\n",
       "    </tr>\n",
       "    <tr>\n",
       "      <th>178</th>\n",
       "      <td>3</td>\n",
       "      <td>197.0</td>\n",
       "      <td>toyota</td>\n",
       "      <td>gas</td>\n",
       "      <td>hatchback</td>\n",
       "      <td>rwd</td>\n",
       "      <td>front</td>\n",
       "      <td>67.7</td>\n",
       "      <td>52.0</td>\n",
       "      <td>dohc</td>\n",
       "      <td>171</td>\n",
       "      <td>161.0</td>\n",
       "      <td>20</td>\n",
       "      <td>24</td>\n",
       "      <td>16558</td>\n",
       "    </tr>\n",
       "    <tr>\n",
       "      <th>179</th>\n",
       "      <td>3</td>\n",
       "      <td>197.0</td>\n",
       "      <td>toyota</td>\n",
       "      <td>gas</td>\n",
       "      <td>hatchback</td>\n",
       "      <td>rwd</td>\n",
       "      <td>front</td>\n",
       "      <td>67.7</td>\n",
       "      <td>52.0</td>\n",
       "      <td>dohc</td>\n",
       "      <td>171</td>\n",
       "      <td>161.0</td>\n",
       "      <td>19</td>\n",
       "      <td>24</td>\n",
       "      <td>15998</td>\n",
       "    </tr>\n",
       "    <tr>\n",
       "      <th>180</th>\n",
       "      <td>-1</td>\n",
       "      <td>90.0</td>\n",
       "      <td>toyota</td>\n",
       "      <td>gas</td>\n",
       "      <td>sedan</td>\n",
       "      <td>rwd</td>\n",
       "      <td>front</td>\n",
       "      <td>66.5</td>\n",
       "      <td>54.1</td>\n",
       "      <td>dohc</td>\n",
       "      <td>171</td>\n",
       "      <td>156.0</td>\n",
       "      <td>20</td>\n",
       "      <td>24</td>\n",
       "      <td>15690</td>\n",
       "    </tr>\n",
       "    <tr>\n",
       "      <th>181</th>\n",
       "      <td>-1</td>\n",
       "      <td>122.0</td>\n",
       "      <td>toyota</td>\n",
       "      <td>gas</td>\n",
       "      <td>wagon</td>\n",
       "      <td>rwd</td>\n",
       "      <td>front</td>\n",
       "      <td>66.5</td>\n",
       "      <td>54.1</td>\n",
       "      <td>dohc</td>\n",
       "      <td>161</td>\n",
       "      <td>156.0</td>\n",
       "      <td>19</td>\n",
       "      <td>24</td>\n",
       "      <td>15750</td>\n",
       "    </tr>\n",
       "  </tbody>\n",
       "</table>\n",
       "</div>"
      ],
      "text/plain": [
       "     symboling  normalized-losses    make fuel-type   body-style drive-wheels  \\\n",
       "172          2              134.0  toyota       gas  convertible          rwd   \n",
       "178          3              197.0  toyota       gas    hatchback          rwd   \n",
       "179          3              197.0  toyota       gas    hatchback          rwd   \n",
       "180         -1               90.0  toyota       gas        sedan          rwd   \n",
       "181         -1              122.0  toyota       gas        wagon          rwd   \n",
       "\n",
       "    engine-location  width  height engine-type  engine-size  horsepower  \\\n",
       "172           front   65.6    53.0         ohc          146       116.0   \n",
       "178           front   67.7    52.0        dohc          171       161.0   \n",
       "179           front   67.7    52.0        dohc          171       161.0   \n",
       "180           front   66.5    54.1        dohc          171       156.0   \n",
       "181           front   66.5    54.1        dohc          161       156.0   \n",
       "\n",
       "     city-mpg  highway-mpg  price  \n",
       "172        24           30  17669  \n",
       "178        20           24  16558  \n",
       "179        19           24  15998  \n",
       "180        20           24  15690  \n",
       "181        19           24  15750  "
      ]
     },
     "execution_count": 27,
     "metadata": {},
     "output_type": "execute_result"
    }
   ],
   "source": [
    "#now i have to remove outliers according to price and make of car ka dataset se\n",
    "#i am removing outlier from toyota brand car whose price>12000\n",
    "df[(df['make']=='toyota')&(df['price']>12000)]"
   ]
  },
  {
   "cell_type": "code",
   "execution_count": 28,
   "id": "cc30cf28",
   "metadata": {},
   "outputs": [
    {
     "name": "stdout",
     "output_type": "stream",
     "text": [
      "Int64Index([172, 178, 179, 180, 181], dtype='int64')\n"
     ]
    }
   ],
   "source": [
    "#so index 172 se 181 this data showing outlier it means i have to remove/drop that record from data set se\n",
    "#u can hold all the index number in object mei\n",
    "#first u have to find index of dataset ka whos showing outliers\n",
    "#by using index attribute of numpy library\n",
    "x=df[(df['make']=='toyota')&(df['price']>12000)].index\n",
    "print(x)\n",
    "df.drop(x,inplace=True)\n",
    "#inplace=matlab permanently chgange hua hai\n"
   ]
  },
  {
   "cell_type": "code",
   "execution_count": 29,
   "id": "64c7d373",
   "metadata": {},
   "outputs": [],
   "source": [
    "#to check ki outlier remove hua hai kya toyota car se\n",
    "#again i have to draw boxplot of make and price ka\n"
   ]
  },
  {
   "cell_type": "code",
   "execution_count": 30,
   "id": "c8f2a069",
   "metadata": {},
   "outputs": [
    {
     "data": {
      "image/png": "[encoded data removed]",
      "text/plain": [
       "<Figure size 1152x648 with 1 Axes>"
      ]
     },
     "metadata": {
      "needs_background": "light"
     },
     "output_type": "display_data"
    }
   ],
   "source": [
    "plt.figure(figsize=(16,9))\n",
    "sb.boxplot(data=df,x='price',y='make')\n",
    "plt.show()"
   ]
  },
  {
   "cell_type": "code",
   "execution_count": 31,
   "id": "42956b71",
   "metadata": {},
   "outputs": [],
   "source": [
    "#so according to make vs price ke according outlier remove karegey sabhi dataset key\n",
    "#i m removing outlier from plymouth car brand se\n",
    "df[(df['make']=='plymouth')&(df['price']>8000)]\n",
    "x=df[(df['make']=='plymouth')&(df['price']>8000)].index\n",
    "df.drop(x,inplace=True)"
   ]
  },
  {
   "cell_type": "code",
   "execution_count": 32,
   "id": "c6979769",
   "metadata": {},
   "outputs": [],
   "source": [
    "#removing outlier from mitsubishi make vs price se\n",
    "df[(df['make']=='mitsubishi')&(df['price']>12000)]\n",
    "x=df[(df['make']=='mitsubishi')&(df['price']>12000)].index\n",
    "df.drop(x,inplace=True)"
   ]
  },
  {
   "cell_type": "code",
   "execution_count": 33,
   "id": "303ceef7",
   "metadata": {},
   "outputs": [],
   "source": [
    "#removing outlier from isuzu make vs price se\n",
    "df[(df['make']=='isuzu')&(df['price']>14000)]\n",
    "x=df[(df['make']=='isuzu')&(df['price']>14000)].index\n",
    "df.drop(x,inplace=True)"
   ]
  },
  {
   "cell_type": "code",
   "execution_count": 34,
   "id": "f023208e",
   "metadata": {},
   "outputs": [],
   "source": [
    "#removing outlier from honda make vs price se\n",
    "df[(df['make']=='honda')&(df['price']>11000)]\n",
    "x=df[(df['make']=='honda')&(df['price']>11000)].index\n",
    "df.drop(x,inplace=True)"
   ]
  },
  {
   "cell_type": "code",
   "execution_count": 35,
   "id": "c0eb778b",
   "metadata": {},
   "outputs": [],
   "source": [
    "#removing outlier from isuzu make vs price se\n",
    "df[(df['make']=='dodge')&(df['price']>9000)]\n",
    "x=df[(df['make']=='dodge')&(df['price']>9000)].index\n",
    "df.drop(x,inplace=True)"
   ]
  },
  {
   "cell_type": "code",
   "execution_count": 36,
   "id": "00776224",
   "metadata": {},
   "outputs": [
    {
     "data": {
      "image/png": "[encoded data removed]",
      "text/plain": [
       "<Figure size 1152x648 with 1 Axes>"
      ]
     },
     "metadata": {
      "needs_background": "light"
     },
     "output_type": "display_data"
    }
   ],
   "source": [
    "#know finally i am checking that outlier is removed or not \n",
    "#again plotting boxplot graph\n",
    "plt.figure(figsize=(16,9))\n",
    "sb.boxplot(data=df,x='price',y='make')\n",
    "plt.show()\n",
    "#below box plot graph has no outlier removed it successfully"
   ]
  },
  {
   "cell_type": "code",
   "execution_count": 37,
   "id": "270cb636",
   "metadata": {},
   "outputs": [],
   "source": [
    "#step:7\n",
    "#as we know machine know only numeric value........so thats i have to convert\n",
    "#object/discrete type column in to numeric mei\n",
    "#it achieve by using label encoder of sklearn library ka\n",
    "\n",
    "#given below step u have to follow\n",
    "\n",
    "#split df into two df mei\n",
    "#first df hold all object type data\n",
    "#second df hold all numerical type data\n",
    "#first create df name df_cat which hold object type data\n",
    "\n"
   ]
  },
  {
   "cell_type": "code",
   "execution_count": 38,
   "id": "0abc441a",
   "metadata": {},
   "outputs": [
    {
     "data": {
      "text/plain": [
       "make               object\n",
       "fuel-type          object\n",
       "body-style         object\n",
       "drive-wheels       object\n",
       "engine-location    object\n",
       "engine-type        object\n",
       "dtype: object"
      ]
     },
     "execution_count": 38,
     "metadata": {},
     "output_type": "execute_result"
    }
   ],
   "source": [
    "df_cat=df.select_dtypes('object')\n",
    "\n",
    "df_cat.dtypes"
   ]
  },
  {
   "cell_type": "code",
   "execution_count": 39,
   "id": "608205dc",
   "metadata": {},
   "outputs": [
    {
     "data": {
      "text/plain": [
       "symboling              int64\n",
       "normalized-losses    float64\n",
       "width                float64\n",
       "height               float64\n",
       "engine-size            int64\n",
       "horsepower           float64\n",
       "city-mpg               int64\n",
       "highway-mpg            int64\n",
       "price                  int64\n",
       "dtype: object"
      ]
     },
     "execution_count": 39,
     "metadata": {},
     "output_type": "execute_result"
    }
   ],
   "source": [
    "df_num=df.select_dtypes(['int64','float64'])\n",
    "df_num.dtypes"
   ]
  },
  {
   "cell_type": "code",
   "execution_count": 40,
   "id": "d601de44",
   "metadata": {},
   "outputs": [],
   "source": [
    "#now converting object datatype into numeric data type value mei\n",
    "#using label encoder"
   ]
  },
  {
   "cell_type": "code",
   "execution_count": 41,
   "id": "4538f107",
   "metadata": {},
   "outputs": [],
   "source": [
    "x=df_cat  #yeh list banake degha sabi object\n",
    "#print(x)\n",
    "for col in x:\n",
    "    #print(col)\n",
    "    le=LabelEncoder()\n",
    "    x[col]=le.fit_transform(x[col])    #x[col] means x df object [col] ki value"
   ]
  },
  {
   "cell_type": "code",
   "execution_count": 42,
   "id": "7ae4de56",
   "metadata": {},
   "outputs": [
    {
     "data": {
      "text/html": [
       "<div>\n",
       "<style scoped>\n",
       "    .dataframe tbody tr th:only-of-type {\n",
       "        vertical-align: middle;\n",
       "    }\n",
       "\n",
       "    .dataframe tbody tr th {\n",
       "        vertical-align: top;\n",
       "    }\n",
       "\n",
       "    .dataframe thead th {\n",
       "        text-align: right;\n",
       "    }\n",
       "</style>\n",
       "<table border=\"1\" class=\"dataframe\">\n",
       "  <thead>\n",
       "    <tr style=\"text-align: right;\">\n",
       "      <th></th>\n",
       "      <th>make</th>\n",
       "      <th>fuel-type</th>\n",
       "      <th>body-style</th>\n",
       "      <th>drive-wheels</th>\n",
       "      <th>engine-location</th>\n",
       "      <th>engine-type</th>\n",
       "    </tr>\n",
       "  </thead>\n",
       "  <tbody>\n",
       "    <tr>\n",
       "      <th>0</th>\n",
       "      <td>0</td>\n",
       "      <td>1</td>\n",
       "      <td>0</td>\n",
       "      <td>2</td>\n",
       "      <td>0</td>\n",
       "      <td>0</td>\n",
       "    </tr>\n",
       "    <tr>\n",
       "      <th>1</th>\n",
       "      <td>0</td>\n",
       "      <td>1</td>\n",
       "      <td>0</td>\n",
       "      <td>2</td>\n",
       "      <td>0</td>\n",
       "      <td>0</td>\n",
       "    </tr>\n",
       "    <tr>\n",
       "      <th>2</th>\n",
       "      <td>0</td>\n",
       "      <td>1</td>\n",
       "      <td>2</td>\n",
       "      <td>2</td>\n",
       "      <td>0</td>\n",
       "      <td>5</td>\n",
       "    </tr>\n",
       "    <tr>\n",
       "      <th>3</th>\n",
       "      <td>1</td>\n",
       "      <td>1</td>\n",
       "      <td>3</td>\n",
       "      <td>1</td>\n",
       "      <td>0</td>\n",
       "      <td>3</td>\n",
       "    </tr>\n",
       "    <tr>\n",
       "      <th>4</th>\n",
       "      <td>1</td>\n",
       "      <td>1</td>\n",
       "      <td>3</td>\n",
       "      <td>0</td>\n",
       "      <td>0</td>\n",
       "      <td>3</td>\n",
       "    </tr>\n",
       "  </tbody>\n",
       "</table>\n",
       "</div>"
      ],
      "text/plain": [
       "   make  fuel-type  body-style  drive-wheels  engine-location  engine-type\n",
       "0     0          1           0             2                0            0\n",
       "1     0          1           0             2                0            0\n",
       "2     0          1           2             2                0            5\n",
       "3     1          1           3             1                0            3\n",
       "4     1          1           3             0                0            3"
      ]
     },
     "execution_count": 42,
     "metadata": {},
     "output_type": "execute_result"
    }
   ],
   "source": [
    "x.head()"
   ]
  },
  {
   "cell_type": "code",
   "execution_count": 43,
   "id": "a41853dc",
   "metadata": {},
   "outputs": [
    {
     "data": {
      "text/plain": [
       "make               int32\n",
       "fuel-type          int32\n",
       "body-style         int32\n",
       "drive-wheels       int32\n",
       "engine-location    int32\n",
       "engine-type        int32\n",
       "dtype: object"
      ]
     },
     "execution_count": 43,
     "metadata": {},
     "output_type": "execute_result"
    }
   ],
   "source": [
    "x.dtypes"
   ]
  },
  {
   "cell_type": "code",
   "execution_count": 44,
   "id": "2c2b44b6",
   "metadata": {},
   "outputs": [
    {
     "name": "stdout",
     "output_type": "stream",
     "text": [
      "column name:symboling and skew of column is:0.21375012897839346\n"
     ]
    },
    {
     "data": {
      "image/png": "[encoded data removed]",
      "text/plain": [
       "<Figure size 432x288 with 1 Axes>"
      ]
     },
     "metadata": {
      "needs_background": "light"
     },
     "output_type": "display_data"
    },
    {
     "data": {
      "image/png": "[encoded data removed]",
      "text/plain": [
       "<Figure size 432x288 with 1 Axes>"
      ]
     },
     "metadata": {
      "needs_background": "light"
     },
     "output_type": "display_data"
    },
    {
     "name": "stdout",
     "output_type": "stream",
     "text": [
      "column name:normalized-losses and skew of column is:0.8605288870365656\n"
     ]
    },
    {
     "data": {
      "image/png": "[encoded data removed]",
      "text/plain": [
       "<Figure size 432x288 with 1 Axes>"
      ]
     },
     "metadata": {
      "needs_background": "light"
     },
     "output_type": "display_data"
    },
    {
     "data": {
      "image/png": "[encoded data removed]",
      "text/plain": [
       "<Figure size 432x288 with 1 Axes>"
      ]
     },
     "metadata": {
      "needs_background": "light"
     },
     "output_type": "display_data"
    },
    {
     "name": "stdout",
     "output_type": "stream",
     "text": [
      "column name:width and skew of column is:0.9139217115506211\n"
     ]
    },
    {
     "data": {
      "image/png": "[encoded data removed]",
      "text/plain": [
       "<Figure size 432x288 with 1 Axes>"
      ]
     },
     "metadata": {
      "needs_background": "light"
     },
     "output_type": "display_data"
    },
    {
     "data": {
      "image/png": "[encoded data removed]",
      "text/plain": [
       "<Figure size 432x288 with 1 Axes>"
      ]
     },
     "metadata": {
      "needs_background": "light"
     },
     "output_type": "display_data"
    },
    {
     "name": "stdout",
     "output_type": "stream",
     "text": [
      "column name:height and skew of column is:-0.03266383402594546\n"
     ]
    },
    {
     "data": {
      "image/png": "[encoded data removed]",
      "text/plain": [
       "<Figure size 432x288 with 1 Axes>"
      ]
     },
     "metadata": {
      "needs_background": "light"
     },
     "output_type": "display_data"
    },
    {
     "data": {
      "image/png": "[encoded data removed]",
      "text/plain": [
       "<Figure size 432x288 with 1 Axes>"
      ]
     },
     "metadata": {
      "needs_background": "light"
     },
     "output_type": "display_data"
    },
    {
     "name": "stdout",
     "output_type": "stream",
     "text": [
      "column name:engine-size and skew of column is:2.0762113811903333\n"
     ]
    },
    {
     "data": {
      "image/png": "[encoded data removed]",
      "text/plain": [
       "<Figure size 432x288 with 1 Axes>"
      ]
     },
     "metadata": {
      "needs_background": "light"
     },
     "output_type": "display_data"
    },
    {
     "data": {
      "image/png": "[encoded data removed]",
      "text/plain": [
       "<Figure size 432x288 with 1 Axes>"
      ]
     },
     "metadata": {
      "needs_background": "light"
     },
     "output_type": "display_data"
    },
    {
     "name": "stdout",
     "output_type": "stream",
     "text": [
      "column name:horsepower and skew of column is:1.580710916639858\n"
     ]
    },
    {
     "data": {
      "image/png": "[encoded data removed]",
      "text/plain": [
       "<Figure size 432x288 with 1 Axes>"
      ]
     },
     "metadata": {
      "needs_background": "light"
     },
     "output_type": "display_data"
    },
    {
     "data": {
      "image/png": "[encoded data removed]",
      "text/plain": [
       "<Figure size 432x288 with 1 Axes>"
      ]
     },
     "metadata": {
      "needs_background": "light"
     },
     "output_type": "display_data"
    },
    {
     "name": "stdout",
     "output_type": "stream",
     "text": [
      "column name:city-mpg and skew of column is:0.5924481768047613\n"
     ]
    },
    {
     "data": {
      "image/png": "[encoded data removed]",
      "text/plain": [
       "<Figure size 432x288 with 1 Axes>"
      ]
     },
     "metadata": {
      "needs_background": "light"
     },
     "output_type": "display_data"
    },
    {
     "data": {
      "image/png": "[encoded data removed]",
      "text/plain": [
       "<Figure size 432x288 with 1 Axes>"
      ]
     },
     "metadata": {
      "needs_background": "light"
     },
     "output_type": "display_data"
    },
    {
     "name": "stdout",
     "output_type": "stream",
     "text": [
      "column name:highway-mpg and skew of column is:0.46852441123405975\n"
     ]
    },
    {
     "data": {
      "image/png": "[encoded data removed]",
      "text/plain": [
       "<Figure size 432x288 with 1 Axes>"
      ]
     },
     "metadata": {
      "needs_background": "light"
     },
     "output_type": "display_data"
    },
    {
     "data": {
      "image/png": "[encoded data removed]",
      "text/plain": [
       "<Figure size 432x288 with 1 Axes>"
      ]
     },
     "metadata": {
      "needs_background": "light"
     },
     "output_type": "display_data"
    },
    {
     "name": "stdout",
     "output_type": "stream",
     "text": [
      "column name:price and skew of column is:1.8171137431304791\n"
     ]
    },
    {
     "data": {
      "image/png": "[encoded data removed]",
      "text/plain": [
       "<Figure size 432x288 with 1 Axes>"
      ]
     },
     "metadata": {
      "needs_background": "light"
     },
     "output_type": "display_data"
    },
    {
     "data": {
      "image/png": "[encoded data removed]",
      "text/plain": [
       "<Figure size 432x288 with 1 Axes>"
      ]
     },
     "metadata": {
      "needs_background": "light"
     },
     "output_type": "display_data"
    }
   ],
   "source": [
    "#now i am checking skewness of contineous numeric data type column ka which is df_num\n",
    "#by using distplot/histogram/histplot graph se\n",
    "#as we know that ki df_num object has n number of column present in it\n",
    "#so we using python loop concept\n",
    "col=df_num.columns   #it return tuple of list ko\n",
    "for i in col:\n",
    "    skewness=df_num[i].skew()\n",
    "    #agar mei chahta hu ki mere graph par column name and skewness value aaye \n",
    "    #to use this step\n",
    "    print(f'column name:{i} and skew of column is:{skewness}')\n",
    "    sb.histplot(data=df_num[i])\n",
    "    plt.show()\n",
    "    sb.distplot(x=df_num[i])\n",
    "    plt.show()\n",
    "\n",
    "    \n"
   ]
  },
  {
   "cell_type": "code",
   "execution_count": 45,
   "id": "aca5af0a",
   "metadata": {},
   "outputs": [
    {
     "data": {
      "image/png": "[encoded data removed]",
      "text/plain": [
       "<Figure size 1152x648 with 2 Axes>"
      ]
     },
     "metadata": {
      "needs_background": "light"
     },
     "output_type": "display_data"
    }
   ],
   "source": [
    "# to minimize the skewness value incolumn se of given data set ke (df_num)\n",
    "#first i have to check correlation btn input variable vs output variable se\n",
    "#so i am using heatmap to visualize correlation of seaborn library\n",
    "plt.figure(figsize=(16,9))\n",
    "sb.heatmap(df_num.corr(),annot=True)\n",
    "plt.show()\n"
   ]
  },
  {
   "cell_type": "code",
   "execution_count": 46,
   "id": "cd595a53",
   "metadata": {},
   "outputs": [],
   "source": [
    "#but height column skewness value coming approx=0\n",
    "#from above we clearly observe that ki symboling and normalized-losses and height have correlation value<+-0.5 so we can say \n",
    "#that its very bad correlate with price output se\n",
    "#so i am gonna minimize the symboling and normalized-losses ka skewness column by using transformation\n",
    "#before directly jump into transformation first i have to check that\n",
    "#ki symboling and normalized-losses have any negative record present init\n",
    "#if it is yes we r not going to transform the column......bcoz it change the pattern of dataset ka\n",
    "#if no then only we use transformation\n",
    "#either by sqrt() and log()"
   ]
  },
  {
   "cell_type": "code",
   "execution_count": 47,
   "id": "7e6572c3",
   "metadata": {},
   "outputs": [
    {
     "data": {
      "text/plain": [
       "Index(['symboling', 'normalized-losses', 'make', 'fuel-type', 'body-style',\n",
       "       'drive-wheels', 'engine-location', 'width', 'height', 'engine-type',\n",
       "       'engine-size', 'horsepower', 'city-mpg', 'highway-mpg', 'price'],\n",
       "      dtype='object')"
      ]
     },
     "execution_count": 47,
     "metadata": {},
     "output_type": "execute_result"
    }
   ],
   "source": [
    "#know i am checking that ki symboling and normalized-losses column koi negative record toh present nhi hai naa\n",
    "df.columns"
   ]
  },
  {
   "cell_type": "code",
   "execution_count": 48,
   "id": "c7d846e3",
   "metadata": {},
   "outputs": [
    {
     "name": "stdout",
     "output_type": "stream",
     "text": [
      "negative value found symboling\n"
     ]
    }
   ],
   "source": [
    "df_num\n",
    "nv=0 #i am assming initially no negative present in record of column mei\n",
    "x=['symboling', 'normalized-losses']\n",
    "n=len(x)\n",
    "for i in x:\n",
    "    for index,value in enumerate(df_num[i]):\n",
    "        if value<0:\n",
    "            nv+=1\n",
    "            print('negative value found',i)\n",
    "            break\n",
    "if nv==0:\n",
    "    print('not found',i)\n",
    "\n"
   ]
  },
  {
   "cell_type": "code",
   "execution_count": 49,
   "id": "fdd0a3a3",
   "metadata": {},
   "outputs": [],
   "source": [
    "#from above concept it clearly observe that symboling column has negative value present.......so we r\n",
    "#avoiding symboling column for minimizing skewness ke liye"
   ]
  },
  {
   "cell_type": "code",
   "execution_count": 50,
   "id": "b04dffe8",
   "metadata": {},
   "outputs": [],
   "source": [
    "#now i am minimizing the skewness of normalized-losses by using treansformation of log() inbuilt method of numpy library\n",
    "df_num['normalized-losses']=np.log(df_num['normalized-losses'])"
   ]
  },
  {
   "cell_type": "code",
   "execution_count": 51,
   "id": "5aa3a192",
   "metadata": {},
   "outputs": [
    {
     "data": {
      "text/plain": [
       "0.024894619921583858"
      ]
     },
     "execution_count": 51,
     "metadata": {},
     "output_type": "execute_result"
    }
   ],
   "source": [
    "#to check again the skewness of df_num['normalized-losses']\n",
    "df_num['normalized-losses'].skew()"
   ]
  },
  {
   "cell_type": "code",
   "execution_count": 52,
   "id": "8d1c6056",
   "metadata": {},
   "outputs": [],
   "source": [
    "#to visualize the df_num['normalized-losses'] ka skewness i have to use\n",
    "#distplot()\n",
    "#or histplot()"
   ]
  },
  {
   "cell_type": "code",
   "execution_count": 53,
   "id": "28842340",
   "metadata": {},
   "outputs": [
    {
     "data": {
      "image/png": "[encoded data removed]",
      "text/plain": [
       "<Figure size 432x288 with 1 Axes>"
      ]
     },
     "metadata": {
      "needs_background": "light"
     },
     "output_type": "display_data"
    }
   ],
   "source": [
    "sb.distplot(x=df_num['normalized-losses'])\n",
    "plt.show()"
   ]
  },
  {
   "cell_type": "code",
   "execution_count": 54,
   "id": "9d5cdad8",
   "metadata": {},
   "outputs": [
    {
     "data": {
      "image/png": "[encoded data removed]",
      "text/plain": [
       "<Figure size 432x288 with 1 Axes>"
      ]
     },
     "metadata": {
      "needs_background": "light"
     },
     "output_type": "display_data"
    }
   ],
   "source": [
    "sb.histplot(x=df_num['normalized-losses'])\n",
    "plt.show()"
   ]
  },
  {
   "cell_type": "code",
   "execution_count": 55,
   "id": "7599ac09",
   "metadata": {},
   "outputs": [
    {
     "data": {
      "text/html": [
       "<div>\n",
       "<style scoped>\n",
       "    .dataframe tbody tr th:only-of-type {\n",
       "        vertical-align: middle;\n",
       "    }\n",
       "\n",
       "    .dataframe tbody tr th {\n",
       "        vertical-align: top;\n",
       "    }\n",
       "\n",
       "    .dataframe thead th {\n",
       "        text-align: right;\n",
       "    }\n",
       "</style>\n",
       "<table border=\"1\" class=\"dataframe\">\n",
       "  <thead>\n",
       "    <tr style=\"text-align: right;\">\n",
       "      <th></th>\n",
       "      <th>make</th>\n",
       "      <th>fuel-type</th>\n",
       "      <th>body-style</th>\n",
       "      <th>drive-wheels</th>\n",
       "      <th>engine-location</th>\n",
       "      <th>engine-type</th>\n",
       "      <th>symboling</th>\n",
       "      <th>normalized-losses</th>\n",
       "      <th>width</th>\n",
       "      <th>height</th>\n",
       "      <th>engine-size</th>\n",
       "      <th>horsepower</th>\n",
       "      <th>city-mpg</th>\n",
       "      <th>highway-mpg</th>\n",
       "      <th>price</th>\n",
       "    </tr>\n",
       "  </thead>\n",
       "  <tbody>\n",
       "    <tr>\n",
       "      <th>0</th>\n",
       "      <td>0</td>\n",
       "      <td>1</td>\n",
       "      <td>0</td>\n",
       "      <td>2</td>\n",
       "      <td>0</td>\n",
       "      <td>0</td>\n",
       "      <td>3</td>\n",
       "      <td>4.804021</td>\n",
       "      <td>64.1</td>\n",
       "      <td>48.8</td>\n",
       "      <td>130</td>\n",
       "      <td>111.0</td>\n",
       "      <td>21</td>\n",
       "      <td>27</td>\n",
       "      <td>13495</td>\n",
       "    </tr>\n",
       "    <tr>\n",
       "      <th>1</th>\n",
       "      <td>0</td>\n",
       "      <td>1</td>\n",
       "      <td>0</td>\n",
       "      <td>2</td>\n",
       "      <td>0</td>\n",
       "      <td>0</td>\n",
       "      <td>3</td>\n",
       "      <td>4.804021</td>\n",
       "      <td>64.1</td>\n",
       "      <td>48.8</td>\n",
       "      <td>130</td>\n",
       "      <td>111.0</td>\n",
       "      <td>21</td>\n",
       "      <td>27</td>\n",
       "      <td>16500</td>\n",
       "    </tr>\n",
       "    <tr>\n",
       "      <th>2</th>\n",
       "      <td>0</td>\n",
       "      <td>1</td>\n",
       "      <td>2</td>\n",
       "      <td>2</td>\n",
       "      <td>0</td>\n",
       "      <td>5</td>\n",
       "      <td>1</td>\n",
       "      <td>4.804021</td>\n",
       "      <td>65.5</td>\n",
       "      <td>52.4</td>\n",
       "      <td>152</td>\n",
       "      <td>154.0</td>\n",
       "      <td>19</td>\n",
       "      <td>26</td>\n",
       "      <td>16500</td>\n",
       "    </tr>\n",
       "    <tr>\n",
       "      <th>3</th>\n",
       "      <td>1</td>\n",
       "      <td>1</td>\n",
       "      <td>3</td>\n",
       "      <td>1</td>\n",
       "      <td>0</td>\n",
       "      <td>3</td>\n",
       "      <td>2</td>\n",
       "      <td>5.099866</td>\n",
       "      <td>66.2</td>\n",
       "      <td>54.3</td>\n",
       "      <td>109</td>\n",
       "      <td>102.0</td>\n",
       "      <td>24</td>\n",
       "      <td>30</td>\n",
       "      <td>13950</td>\n",
       "    </tr>\n",
       "    <tr>\n",
       "      <th>4</th>\n",
       "      <td>1</td>\n",
       "      <td>1</td>\n",
       "      <td>3</td>\n",
       "      <td>0</td>\n",
       "      <td>0</td>\n",
       "      <td>3</td>\n",
       "      <td>2</td>\n",
       "      <td>5.099866</td>\n",
       "      <td>66.4</td>\n",
       "      <td>54.3</td>\n",
       "      <td>136</td>\n",
       "      <td>115.0</td>\n",
       "      <td>18</td>\n",
       "      <td>22</td>\n",
       "      <td>17450</td>\n",
       "    </tr>\n",
       "    <tr>\n",
       "      <th>...</th>\n",
       "      <td>...</td>\n",
       "      <td>...</td>\n",
       "      <td>...</td>\n",
       "      <td>...</td>\n",
       "      <td>...</td>\n",
       "      <td>...</td>\n",
       "      <td>...</td>\n",
       "      <td>...</td>\n",
       "      <td>...</td>\n",
       "      <td>...</td>\n",
       "      <td>...</td>\n",
       "      <td>...</td>\n",
       "      <td>...</td>\n",
       "      <td>...</td>\n",
       "      <td>...</td>\n",
       "    </tr>\n",
       "    <tr>\n",
       "      <th>200</th>\n",
       "      <td>21</td>\n",
       "      <td>1</td>\n",
       "      <td>3</td>\n",
       "      <td>2</td>\n",
       "      <td>0</td>\n",
       "      <td>3</td>\n",
       "      <td>-1</td>\n",
       "      <td>4.553877</td>\n",
       "      <td>68.9</td>\n",
       "      <td>55.5</td>\n",
       "      <td>141</td>\n",
       "      <td>114.0</td>\n",
       "      <td>23</td>\n",
       "      <td>28</td>\n",
       "      <td>16845</td>\n",
       "    </tr>\n",
       "    <tr>\n",
       "      <th>201</th>\n",
       "      <td>21</td>\n",
       "      <td>1</td>\n",
       "      <td>3</td>\n",
       "      <td>2</td>\n",
       "      <td>0</td>\n",
       "      <td>3</td>\n",
       "      <td>-1</td>\n",
       "      <td>4.553877</td>\n",
       "      <td>68.8</td>\n",
       "      <td>55.5</td>\n",
       "      <td>141</td>\n",
       "      <td>160.0</td>\n",
       "      <td>19</td>\n",
       "      <td>25</td>\n",
       "      <td>19045</td>\n",
       "    </tr>\n",
       "    <tr>\n",
       "      <th>202</th>\n",
       "      <td>21</td>\n",
       "      <td>1</td>\n",
       "      <td>3</td>\n",
       "      <td>2</td>\n",
       "      <td>0</td>\n",
       "      <td>5</td>\n",
       "      <td>-1</td>\n",
       "      <td>4.553877</td>\n",
       "      <td>68.9</td>\n",
       "      <td>55.5</td>\n",
       "      <td>173</td>\n",
       "      <td>134.0</td>\n",
       "      <td>18</td>\n",
       "      <td>23</td>\n",
       "      <td>21485</td>\n",
       "    </tr>\n",
       "    <tr>\n",
       "      <th>203</th>\n",
       "      <td>21</td>\n",
       "      <td>0</td>\n",
       "      <td>3</td>\n",
       "      <td>2</td>\n",
       "      <td>0</td>\n",
       "      <td>3</td>\n",
       "      <td>-1</td>\n",
       "      <td>4.553877</td>\n",
       "      <td>68.9</td>\n",
       "      <td>55.5</td>\n",
       "      <td>145</td>\n",
       "      <td>106.0</td>\n",
       "      <td>26</td>\n",
       "      <td>27</td>\n",
       "      <td>22470</td>\n",
       "    </tr>\n",
       "    <tr>\n",
       "      <th>204</th>\n",
       "      <td>21</td>\n",
       "      <td>1</td>\n",
       "      <td>3</td>\n",
       "      <td>2</td>\n",
       "      <td>0</td>\n",
       "      <td>3</td>\n",
       "      <td>-1</td>\n",
       "      <td>4.553877</td>\n",
       "      <td>68.9</td>\n",
       "      <td>55.5</td>\n",
       "      <td>141</td>\n",
       "      <td>114.0</td>\n",
       "      <td>19</td>\n",
       "      <td>25</td>\n",
       "      <td>22625</td>\n",
       "    </tr>\n",
       "  </tbody>\n",
       "</table>\n",
       "<p>192 rows × 15 columns</p>\n",
       "</div>"
      ],
      "text/plain": [
       "     make  fuel-type  body-style  drive-wheels  engine-location  engine-type  \\\n",
       "0       0          1           0             2                0            0   \n",
       "1       0          1           0             2                0            0   \n",
       "2       0          1           2             2                0            5   \n",
       "3       1          1           3             1                0            3   \n",
       "4       1          1           3             0                0            3   \n",
       "..    ...        ...         ...           ...              ...          ...   \n",
       "200    21          1           3             2                0            3   \n",
       "201    21          1           3             2                0            3   \n",
       "202    21          1           3             2                0            5   \n",
       "203    21          0           3             2                0            3   \n",
       "204    21          1           3             2                0            3   \n",
       "\n",
       "     symboling  normalized-losses  width  height  engine-size  horsepower  \\\n",
       "0            3           4.804021   64.1    48.8          130       111.0   \n",
       "1            3           4.804021   64.1    48.8          130       111.0   \n",
       "2            1           4.804021   65.5    52.4          152       154.0   \n",
       "3            2           5.099866   66.2    54.3          109       102.0   \n",
       "4            2           5.099866   66.4    54.3          136       115.0   \n",
       "..         ...                ...    ...     ...          ...         ...   \n",
       "200         -1           4.553877   68.9    55.5          141       114.0   \n",
       "201         -1           4.553877   68.8    55.5          141       160.0   \n",
       "202         -1           4.553877   68.9    55.5          173       134.0   \n",
       "203         -1           4.553877   68.9    55.5          145       106.0   \n",
       "204         -1           4.553877   68.9    55.5          141       114.0   \n",
       "\n",
       "     city-mpg  highway-mpg  price  \n",
       "0          21           27  13495  \n",
       "1          21           27  16500  \n",
       "2          19           26  16500  \n",
       "3          24           30  13950  \n",
       "4          18           22  17450  \n",
       "..        ...          ...    ...  \n",
       "200        23           28  16845  \n",
       "201        19           25  19045  \n",
       "202        18           23  21485  \n",
       "203        26           27  22470  \n",
       "204        19           25  22625  \n",
       "\n",
       "[192 rows x 15 columns]"
      ]
     },
     "execution_count": 55,
     "metadata": {},
     "output_type": "execute_result"
    }
   ],
   "source": [
    "#now i am merging/adding df_num and df_cat into df_new object mei\n",
    "#by using concat() inbuilt method of pandas library ka\n",
    "df_new=pd.concat([df_cat,df_num],axis=1)\n",
    "df_new"
   ]
  },
  {
   "cell_type": "code",
   "execution_count": 56,
   "id": "dd99f6ae",
   "metadata": {},
   "outputs": [
    {
     "data": {
      "text/plain": [
       "Index(['make', 'fuel-type', 'body-style', 'drive-wheels', 'engine-location',\n",
       "       'engine-type', 'symboling', 'normalized-losses', 'width', 'height',\n",
       "       'engine-size', 'horsepower', 'city-mpg', 'highway-mpg', 'price'],\n",
       "      dtype='object')"
      ]
     },
     "execution_count": 56,
     "metadata": {},
     "output_type": "execute_result"
    }
   ],
   "source": [
    "#last step we r doing scaling in which we r changing the unit of dataset into special unit\n",
    "#to achieve scaleing i am using standardscaler class of sklearn library/package ka\n",
    "#and i real world we r doing scaling only on input variable not on output variable so we r iignoring output variable\n",
    "df_new.columns\n"
   ]
  },
  {
   "cell_type": "code",
   "execution_count": 57,
   "id": "59c127ab",
   "metadata": {},
   "outputs": [],
   "source": [
    "lst=[['make', 'fuel-type', 'body-style', 'drive-wheels', 'engine-location',\n",
    "       'engine-type', 'symboling', 'normalized-losses', 'width', 'height',\n",
    "       'engine-size', 'horsepower', 'city-mpg', 'highway-mpg']]  #variable creating and doing scaling \n",
    "for i,val in enumerate(lst):\n",
    "    ss=StandardScaler()\n",
    "    df_new[val]=ss.fit_transform(df_new[val])"
   ]
  },
  {
   "cell_type": "code",
   "execution_count": 58,
   "id": "693f2a49",
   "metadata": {},
   "outputs": [
    {
     "data": {
      "text/html": [
       "<div>\n",
       "<style scoped>\n",
       "    .dataframe tbody tr th:only-of-type {\n",
       "        vertical-align: middle;\n",
       "    }\n",
       "\n",
       "    .dataframe tbody tr th {\n",
       "        vertical-align: top;\n",
       "    }\n",
       "\n",
       "    .dataframe thead th {\n",
       "        text-align: right;\n",
       "    }\n",
       "</style>\n",
       "<table border=\"1\" class=\"dataframe\">\n",
       "  <thead>\n",
       "    <tr style=\"text-align: right;\">\n",
       "      <th></th>\n",
       "      <th>make</th>\n",
       "      <th>fuel-type</th>\n",
       "      <th>body-style</th>\n",
       "      <th>drive-wheels</th>\n",
       "      <th>engine-location</th>\n",
       "      <th>engine-type</th>\n",
       "      <th>symboling</th>\n",
       "      <th>normalized-losses</th>\n",
       "      <th>width</th>\n",
       "      <th>height</th>\n",
       "      <th>engine-size</th>\n",
       "      <th>horsepower</th>\n",
       "      <th>city-mpg</th>\n",
       "      <th>highway-mpg</th>\n",
       "      <th>price</th>\n",
       "    </tr>\n",
       "  </thead>\n",
       "  <tbody>\n",
       "    <tr>\n",
       "      <th>0</th>\n",
       "      <td>-1.924008</td>\n",
       "      <td>0.340997</td>\n",
       "      <td>-3.116631</td>\n",
       "      <td>1.224406</td>\n",
       "      <td>-0.125988</td>\n",
       "      <td>-3.095684</td>\n",
       "      <td>1.865777</td>\n",
       "      <td>0.137881</td>\n",
       "      <td>-0.819430</td>\n",
       "      <td>-2.085731</td>\n",
       "      <td>0.107166</td>\n",
       "      <td>0.221922</td>\n",
       "      <td>-0.680267</td>\n",
       "      <td>-0.585095</td>\n",
       "      <td>13495</td>\n",
       "    </tr>\n",
       "    <tr>\n",
       "      <th>1</th>\n",
       "      <td>-1.924008</td>\n",
       "      <td>0.340997</td>\n",
       "      <td>-3.116631</td>\n",
       "      <td>1.224406</td>\n",
       "      <td>-0.125988</td>\n",
       "      <td>-3.095684</td>\n",
       "      <td>1.865777</td>\n",
       "      <td>0.137881</td>\n",
       "      <td>-0.819430</td>\n",
       "      <td>-2.085731</td>\n",
       "      <td>0.107166</td>\n",
       "      <td>0.221922</td>\n",
       "      <td>-0.680267</td>\n",
       "      <td>-0.585095</td>\n",
       "      <td>16500</td>\n",
       "    </tr>\n",
       "    <tr>\n",
       "      <th>2</th>\n",
       "      <td>-1.924008</td>\n",
       "      <td>0.340997</td>\n",
       "      <td>-0.746757</td>\n",
       "      <td>1.224406</td>\n",
       "      <td>-0.125988</td>\n",
       "      <td>1.932838</td>\n",
       "      <td>0.179993</td>\n",
       "      <td>0.137881</td>\n",
       "      <td>-0.180987</td>\n",
       "      <td>-0.586971</td>\n",
       "      <td>0.629880</td>\n",
       "      <td>1.316751</td>\n",
       "      <td>-0.985791</td>\n",
       "      <td>-0.730422</td>\n",
       "      <td>16500</td>\n",
       "    </tr>\n",
       "    <tr>\n",
       "      <th>3</th>\n",
       "      <td>-1.765395</td>\n",
       "      <td>0.340997</td>\n",
       "      <td>0.438180</td>\n",
       "      <td>-0.570143</td>\n",
       "      <td>-0.125988</td>\n",
       "      <td>-0.078571</td>\n",
       "      <td>1.022885</td>\n",
       "      <td>1.311332</td>\n",
       "      <td>0.138234</td>\n",
       "      <td>0.204041</td>\n",
       "      <td>-0.391788</td>\n",
       "      <td>-0.007229</td>\n",
       "      <td>-0.221982</td>\n",
       "      <td>-0.149112</td>\n",
       "      <td>13950</td>\n",
       "    </tr>\n",
       "    <tr>\n",
       "      <th>4</th>\n",
       "      <td>-1.765395</td>\n",
       "      <td>0.340997</td>\n",
       "      <td>0.438180</td>\n",
       "      <td>-2.364693</td>\n",
       "      <td>-0.125988</td>\n",
       "      <td>-0.078571</td>\n",
       "      <td>1.022885</td>\n",
       "      <td>1.311332</td>\n",
       "      <td>0.229440</td>\n",
       "      <td>0.204041</td>\n",
       "      <td>0.249724</td>\n",
       "      <td>0.323766</td>\n",
       "      <td>-1.138552</td>\n",
       "      <td>-1.311732</td>\n",
       "      <td>17450</td>\n",
       "    </tr>\n",
       "    <tr>\n",
       "      <th>...</th>\n",
       "      <td>...</td>\n",
       "      <td>...</td>\n",
       "      <td>...</td>\n",
       "      <td>...</td>\n",
       "      <td>...</td>\n",
       "      <td>...</td>\n",
       "      <td>...</td>\n",
       "      <td>...</td>\n",
       "      <td>...</td>\n",
       "      <td>...</td>\n",
       "      <td>...</td>\n",
       "      <td>...</td>\n",
       "      <td>...</td>\n",
       "      <td>...</td>\n",
       "      <td>...</td>\n",
       "    </tr>\n",
       "    <tr>\n",
       "      <th>200</th>\n",
       "      <td>1.406864</td>\n",
       "      <td>0.340997</td>\n",
       "      <td>0.438180</td>\n",
       "      <td>1.224406</td>\n",
       "      <td>-0.125988</td>\n",
       "      <td>-0.078571</td>\n",
       "      <td>-1.505791</td>\n",
       "      <td>-0.854299</td>\n",
       "      <td>1.369516</td>\n",
       "      <td>0.703628</td>\n",
       "      <td>0.368523</td>\n",
       "      <td>0.298305</td>\n",
       "      <td>-0.374744</td>\n",
       "      <td>-0.439767</td>\n",
       "      <td>16845</td>\n",
       "    </tr>\n",
       "    <tr>\n",
       "      <th>201</th>\n",
       "      <td>1.406864</td>\n",
       "      <td>0.340997</td>\n",
       "      <td>0.438180</td>\n",
       "      <td>1.224406</td>\n",
       "      <td>-0.125988</td>\n",
       "      <td>-0.078571</td>\n",
       "      <td>-1.505791</td>\n",
       "      <td>-0.854299</td>\n",
       "      <td>1.323913</td>\n",
       "      <td>0.703628</td>\n",
       "      <td>0.368523</td>\n",
       "      <td>1.469518</td>\n",
       "      <td>-0.985791</td>\n",
       "      <td>-0.875750</td>\n",
       "      <td>19045</td>\n",
       "    </tr>\n",
       "    <tr>\n",
       "      <th>202</th>\n",
       "      <td>1.406864</td>\n",
       "      <td>0.340997</td>\n",
       "      <td>0.438180</td>\n",
       "      <td>1.224406</td>\n",
       "      <td>-0.125988</td>\n",
       "      <td>1.932838</td>\n",
       "      <td>-1.505791</td>\n",
       "      <td>-0.854299</td>\n",
       "      <td>1.369516</td>\n",
       "      <td>0.703628</td>\n",
       "      <td>1.128833</td>\n",
       "      <td>0.807528</td>\n",
       "      <td>-1.138552</td>\n",
       "      <td>-1.166405</td>\n",
       "      <td>21485</td>\n",
       "    </tr>\n",
       "    <tr>\n",
       "      <th>203</th>\n",
       "      <td>1.406864</td>\n",
       "      <td>-2.932576</td>\n",
       "      <td>0.438180</td>\n",
       "      <td>1.224406</td>\n",
       "      <td>-0.125988</td>\n",
       "      <td>-0.078571</td>\n",
       "      <td>-1.505791</td>\n",
       "      <td>-0.854299</td>\n",
       "      <td>1.369516</td>\n",
       "      <td>0.703628</td>\n",
       "      <td>0.463562</td>\n",
       "      <td>0.094616</td>\n",
       "      <td>0.083542</td>\n",
       "      <td>-0.585095</td>\n",
       "      <td>22470</td>\n",
       "    </tr>\n",
       "    <tr>\n",
       "      <th>204</th>\n",
       "      <td>1.406864</td>\n",
       "      <td>0.340997</td>\n",
       "      <td>0.438180</td>\n",
       "      <td>1.224406</td>\n",
       "      <td>-0.125988</td>\n",
       "      <td>-0.078571</td>\n",
       "      <td>-1.505791</td>\n",
       "      <td>-0.854299</td>\n",
       "      <td>1.369516</td>\n",
       "      <td>0.703628</td>\n",
       "      <td>0.368523</td>\n",
       "      <td>0.298305</td>\n",
       "      <td>-0.985791</td>\n",
       "      <td>-0.875750</td>\n",
       "      <td>22625</td>\n",
       "    </tr>\n",
       "  </tbody>\n",
       "</table>\n",
       "<p>192 rows × 15 columns</p>\n",
       "</div>"
      ],
      "text/plain": [
       "         make  fuel-type  body-style  drive-wheels  engine-location  \\\n",
       "0   -1.924008   0.340997   -3.116631      1.224406        -0.125988   \n",
       "1   -1.924008   0.340997   -3.116631      1.224406        -0.125988   \n",
       "2   -1.924008   0.340997   -0.746757      1.224406        -0.125988   \n",
       "3   -1.765395   0.340997    0.438180     -0.570143        -0.125988   \n",
       "4   -1.765395   0.340997    0.438180     -2.364693        -0.125988   \n",
       "..        ...        ...         ...           ...              ...   \n",
       "200  1.406864   0.340997    0.438180      1.224406        -0.125988   \n",
       "201  1.406864   0.340997    0.438180      1.224406        -0.125988   \n",
       "202  1.406864   0.340997    0.438180      1.224406        -0.125988   \n",
       "203  1.406864  -2.932576    0.438180      1.224406        -0.125988   \n",
       "204  1.406864   0.340997    0.438180      1.224406        -0.125988   \n",
       "\n",
       "     engine-type  symboling  normalized-losses     width    height  \\\n",
       "0      -3.095684   1.865777           0.137881 -0.819430 -2.085731   \n",
       "1      -3.095684   1.865777           0.137881 -0.819430 -2.085731   \n",
       "2       1.932838   0.179993           0.137881 -0.180987 -0.586971   \n",
       "3      -0.078571   1.022885           1.311332  0.138234  0.204041   \n",
       "4      -0.078571   1.022885           1.311332  0.229440  0.204041   \n",
       "..           ...        ...                ...       ...       ...   \n",
       "200    -0.078571  -1.505791          -0.854299  1.369516  0.703628   \n",
       "201    -0.078571  -1.505791          -0.854299  1.323913  0.703628   \n",
       "202     1.932838  -1.505791          -0.854299  1.369516  0.703628   \n",
       "203    -0.078571  -1.505791          -0.854299  1.369516  0.703628   \n",
       "204    -0.078571  -1.505791          -0.854299  1.369516  0.703628   \n",
       "\n",
       "     engine-size  horsepower  city-mpg  highway-mpg  price  \n",
       "0       0.107166    0.221922 -0.680267    -0.585095  13495  \n",
       "1       0.107166    0.221922 -0.680267    -0.585095  16500  \n",
       "2       0.629880    1.316751 -0.985791    -0.730422  16500  \n",
       "3      -0.391788   -0.007229 -0.221982    -0.149112  13950  \n",
       "4       0.249724    0.323766 -1.138552    -1.311732  17450  \n",
       "..           ...         ...       ...          ...    ...  \n",
       "200     0.368523    0.298305 -0.374744    -0.439767  16845  \n",
       "201     0.368523    1.469518 -0.985791    -0.875750  19045  \n",
       "202     1.128833    0.807528 -1.138552    -1.166405  21485  \n",
       "203     0.463562    0.094616  0.083542    -0.585095  22470  \n",
       "204     0.368523    0.298305 -0.985791    -0.875750  22625  \n",
       "\n",
       "[192 rows x 15 columns]"
      ]
     },
     "execution_count": 58,
     "metadata": {},
     "output_type": "execute_result"
    }
   ],
   "source": [
    "df_new"
   ]
  },
  {
   "cell_type": "code",
   "execution_count": 59,
   "id": "b4610191",
   "metadata": {},
   "outputs": [
    {
     "data": {
      "text/plain": [
       "array([[-1.92400836e+00,  3.40997170e-01, -3.11663086e+00, ...,\n",
       "        -6.80267140e-01, -5.85094696e-01,  1.34950000e+04],\n",
       "       [-1.92400836e+00,  3.40997170e-01, -3.11663086e+00, ...,\n",
       "        -6.80267140e-01, -5.85094696e-01,  1.65000000e+04],\n",
       "       [-1.92400836e+00,  3.40997170e-01, -7.46757097e-01, ...,\n",
       "        -9.85790627e-01, -7.30422227e-01,  1.65000000e+04],\n",
       "       ...,\n",
       "       [ 1.40686399e+00,  3.40997170e-01,  4.38179784e-01, ...,\n",
       "        -1.13855237e+00, -1.16640482e+00,  2.14850000e+04],\n",
       "       [ 1.40686399e+00, -2.93257566e+00,  4.38179784e-01, ...,\n",
       "         8.35415786e-02, -5.85094696e-01,  2.24700000e+04],\n",
       "       [ 1.40686399e+00,  3.40997170e-01,  4.38179784e-01, ...,\n",
       "        -9.85790627e-01, -8.75749758e-01,  2.26250000e+04]])"
      ]
     },
     "execution_count": 59,
     "metadata": {},
     "output_type": "execute_result"
    }
   ],
   "source": [
    "#note: hum always machine ko dataset as 2d numpy array mei deta hai\n",
    "#we always give the dataset to machine only in 2d numpy array ......for fast processing ke liye machine ko\n",
    "#so we have to convert the datset into 2d numpy array me by using inbuilt attribute of values of numpy library\n",
    "df_new.values"
   ]
  },
  {
   "cell_type": "code",
   "execution_count": 60,
   "id": "647af7a6",
   "metadata": {},
   "outputs": [],
   "source": [
    "#final step its optional to add new column in a datset mei is called feature engineering why it is important\n",
    "#how i can achieve feature engineering\n",
    "#some concept\n",
    "#feature engineering as fe\n",
    "#hum fe issliye krte ki machine fast process krey aur iss fe mei hum unwanted column ko remove krte hai with new column se\n",
    "#jo new column hoga woh fully depend hoga unwanted column pe\n",
    "#example above\n",
    "#fe ki help se hum area column ban skte hai==== length and height of column ko hata ke\n",
    "#iss se column size kum hoga aur machine ki processing fast ho jayegha\n",
    "\n"
   ]
  },
  {
   "cell_type": "code",
   "execution_count": 61,
   "id": "8757a680",
   "metadata": {},
   "outputs": [
    {
     "data": {
      "text/html": [
       "<div>\n",
       "<style scoped>\n",
       "    .dataframe tbody tr th:only-of-type {\n",
       "        vertical-align: middle;\n",
       "    }\n",
       "\n",
       "    .dataframe tbody tr th {\n",
       "        vertical-align: top;\n",
       "    }\n",
       "\n",
       "    .dataframe thead th {\n",
       "        text-align: right;\n",
       "    }\n",
       "</style>\n",
       "<table border=\"1\" class=\"dataframe\">\n",
       "  <thead>\n",
       "    <tr style=\"text-align: right;\">\n",
       "      <th></th>\n",
       "      <th>make</th>\n",
       "      <th>fuel-type</th>\n",
       "      <th>body-style</th>\n",
       "      <th>drive-wheels</th>\n",
       "      <th>engine-location</th>\n",
       "      <th>engine-type</th>\n",
       "      <th>symboling</th>\n",
       "      <th>normalized-losses</th>\n",
       "      <th>width</th>\n",
       "      <th>height</th>\n",
       "      <th>engine-size</th>\n",
       "      <th>horsepower</th>\n",
       "      <th>city-mpg</th>\n",
       "      <th>highway-mpg</th>\n",
       "      <th>price</th>\n",
       "      <th>area</th>\n",
       "    </tr>\n",
       "  </thead>\n",
       "  <tbody>\n",
       "    <tr>\n",
       "      <th>0</th>\n",
       "      <td>-1.924008</td>\n",
       "      <td>0.340997</td>\n",
       "      <td>-3.116631</td>\n",
       "      <td>1.224406</td>\n",
       "      <td>-0.125988</td>\n",
       "      <td>-3.095684</td>\n",
       "      <td>1.865777</td>\n",
       "      <td>0.137881</td>\n",
       "      <td>-0.819430</td>\n",
       "      <td>-2.085731</td>\n",
       "      <td>0.107166</td>\n",
       "      <td>0.221922</td>\n",
       "      <td>-0.680267</td>\n",
       "      <td>-0.585095</td>\n",
       "      <td>13495</td>\n",
       "      <td>1.709109</td>\n",
       "    </tr>\n",
       "    <tr>\n",
       "      <th>1</th>\n",
       "      <td>-1.924008</td>\n",
       "      <td>0.340997</td>\n",
       "      <td>-3.116631</td>\n",
       "      <td>1.224406</td>\n",
       "      <td>-0.125988</td>\n",
       "      <td>-3.095684</td>\n",
       "      <td>1.865777</td>\n",
       "      <td>0.137881</td>\n",
       "      <td>-0.819430</td>\n",
       "      <td>-2.085731</td>\n",
       "      <td>0.107166</td>\n",
       "      <td>0.221922</td>\n",
       "      <td>-0.680267</td>\n",
       "      <td>-0.585095</td>\n",
       "      <td>16500</td>\n",
       "      <td>1.709109</td>\n",
       "    </tr>\n",
       "    <tr>\n",
       "      <th>2</th>\n",
       "      <td>-1.924008</td>\n",
       "      <td>0.340997</td>\n",
       "      <td>-0.746757</td>\n",
       "      <td>1.224406</td>\n",
       "      <td>-0.125988</td>\n",
       "      <td>1.932838</td>\n",
       "      <td>0.179993</td>\n",
       "      <td>0.137881</td>\n",
       "      <td>-0.180987</td>\n",
       "      <td>-0.586971</td>\n",
       "      <td>0.629880</td>\n",
       "      <td>1.316751</td>\n",
       "      <td>-0.985791</td>\n",
       "      <td>-0.730422</td>\n",
       "      <td>16500</td>\n",
       "      <td>0.106234</td>\n",
       "    </tr>\n",
       "    <tr>\n",
       "      <th>3</th>\n",
       "      <td>-1.765395</td>\n",
       "      <td>0.340997</td>\n",
       "      <td>0.438180</td>\n",
       "      <td>-0.570143</td>\n",
       "      <td>-0.125988</td>\n",
       "      <td>-0.078571</td>\n",
       "      <td>1.022885</td>\n",
       "      <td>1.311332</td>\n",
       "      <td>0.138234</td>\n",
       "      <td>0.204041</td>\n",
       "      <td>-0.391788</td>\n",
       "      <td>-0.007229</td>\n",
       "      <td>-0.221982</td>\n",
       "      <td>-0.149112</td>\n",
       "      <td>13950</td>\n",
       "      <td>0.028205</td>\n",
       "    </tr>\n",
       "    <tr>\n",
       "      <th>4</th>\n",
       "      <td>-1.765395</td>\n",
       "      <td>0.340997</td>\n",
       "      <td>0.438180</td>\n",
       "      <td>-2.364693</td>\n",
       "      <td>-0.125988</td>\n",
       "      <td>-0.078571</td>\n",
       "      <td>1.022885</td>\n",
       "      <td>1.311332</td>\n",
       "      <td>0.229440</td>\n",
       "      <td>0.204041</td>\n",
       "      <td>0.249724</td>\n",
       "      <td>0.323766</td>\n",
       "      <td>-1.138552</td>\n",
       "      <td>-1.311732</td>\n",
       "      <td>17450</td>\n",
       "      <td>0.046815</td>\n",
       "    </tr>\n",
       "    <tr>\n",
       "      <th>...</th>\n",
       "      <td>...</td>\n",
       "      <td>...</td>\n",
       "      <td>...</td>\n",
       "      <td>...</td>\n",
       "      <td>...</td>\n",
       "      <td>...</td>\n",
       "      <td>...</td>\n",
       "      <td>...</td>\n",
       "      <td>...</td>\n",
       "      <td>...</td>\n",
       "      <td>...</td>\n",
       "      <td>...</td>\n",
       "      <td>...</td>\n",
       "      <td>...</td>\n",
       "      <td>...</td>\n",
       "      <td>...</td>\n",
       "    </tr>\n",
       "    <tr>\n",
       "      <th>200</th>\n",
       "      <td>1.406864</td>\n",
       "      <td>0.340997</td>\n",
       "      <td>0.438180</td>\n",
       "      <td>1.224406</td>\n",
       "      <td>-0.125988</td>\n",
       "      <td>-0.078571</td>\n",
       "      <td>-1.505791</td>\n",
       "      <td>-0.854299</td>\n",
       "      <td>1.369516</td>\n",
       "      <td>0.703628</td>\n",
       "      <td>0.368523</td>\n",
       "      <td>0.298305</td>\n",
       "      <td>-0.374744</td>\n",
       "      <td>-0.439767</td>\n",
       "      <td>16845</td>\n",
       "      <td>0.963630</td>\n",
       "    </tr>\n",
       "    <tr>\n",
       "      <th>201</th>\n",
       "      <td>1.406864</td>\n",
       "      <td>0.340997</td>\n",
       "      <td>0.438180</td>\n",
       "      <td>1.224406</td>\n",
       "      <td>-0.125988</td>\n",
       "      <td>-0.078571</td>\n",
       "      <td>-1.505791</td>\n",
       "      <td>-0.854299</td>\n",
       "      <td>1.323913</td>\n",
       "      <td>0.703628</td>\n",
       "      <td>0.368523</td>\n",
       "      <td>1.469518</td>\n",
       "      <td>-0.985791</td>\n",
       "      <td>-0.875750</td>\n",
       "      <td>19045</td>\n",
       "      <td>0.931542</td>\n",
       "    </tr>\n",
       "    <tr>\n",
       "      <th>202</th>\n",
       "      <td>1.406864</td>\n",
       "      <td>0.340997</td>\n",
       "      <td>0.438180</td>\n",
       "      <td>1.224406</td>\n",
       "      <td>-0.125988</td>\n",
       "      <td>1.932838</td>\n",
       "      <td>-1.505791</td>\n",
       "      <td>-0.854299</td>\n",
       "      <td>1.369516</td>\n",
       "      <td>0.703628</td>\n",
       "      <td>1.128833</td>\n",
       "      <td>0.807528</td>\n",
       "      <td>-1.138552</td>\n",
       "      <td>-1.166405</td>\n",
       "      <td>21485</td>\n",
       "      <td>0.963630</td>\n",
       "    </tr>\n",
       "    <tr>\n",
       "      <th>203</th>\n",
       "      <td>1.406864</td>\n",
       "      <td>-2.932576</td>\n",
       "      <td>0.438180</td>\n",
       "      <td>1.224406</td>\n",
       "      <td>-0.125988</td>\n",
       "      <td>-0.078571</td>\n",
       "      <td>-1.505791</td>\n",
       "      <td>-0.854299</td>\n",
       "      <td>1.369516</td>\n",
       "      <td>0.703628</td>\n",
       "      <td>0.463562</td>\n",
       "      <td>0.094616</td>\n",
       "      <td>0.083542</td>\n",
       "      <td>-0.585095</td>\n",
       "      <td>22470</td>\n",
       "      <td>0.963630</td>\n",
       "    </tr>\n",
       "    <tr>\n",
       "      <th>204</th>\n",
       "      <td>1.406864</td>\n",
       "      <td>0.340997</td>\n",
       "      <td>0.438180</td>\n",
       "      <td>1.224406</td>\n",
       "      <td>-0.125988</td>\n",
       "      <td>-0.078571</td>\n",
       "      <td>-1.505791</td>\n",
       "      <td>-0.854299</td>\n",
       "      <td>1.369516</td>\n",
       "      <td>0.703628</td>\n",
       "      <td>0.368523</td>\n",
       "      <td>0.298305</td>\n",
       "      <td>-0.985791</td>\n",
       "      <td>-0.875750</td>\n",
       "      <td>22625</td>\n",
       "      <td>0.963630</td>\n",
       "    </tr>\n",
       "  </tbody>\n",
       "</table>\n",
       "<p>192 rows × 16 columns</p>\n",
       "</div>"
      ],
      "text/plain": [
       "         make  fuel-type  body-style  drive-wheels  engine-location  \\\n",
       "0   -1.924008   0.340997   -3.116631      1.224406        -0.125988   \n",
       "1   -1.924008   0.340997   -3.116631      1.224406        -0.125988   \n",
       "2   -1.924008   0.340997   -0.746757      1.224406        -0.125988   \n",
       "3   -1.765395   0.340997    0.438180     -0.570143        -0.125988   \n",
       "4   -1.765395   0.340997    0.438180     -2.364693        -0.125988   \n",
       "..        ...        ...         ...           ...              ...   \n",
       "200  1.406864   0.340997    0.438180      1.224406        -0.125988   \n",
       "201  1.406864   0.340997    0.438180      1.224406        -0.125988   \n",
       "202  1.406864   0.340997    0.438180      1.224406        -0.125988   \n",
       "203  1.406864  -2.932576    0.438180      1.224406        -0.125988   \n",
       "204  1.406864   0.340997    0.438180      1.224406        -0.125988   \n",
       "\n",
       "     engine-type  symboling  normalized-losses     width    height  \\\n",
       "0      -3.095684   1.865777           0.137881 -0.819430 -2.085731   \n",
       "1      -3.095684   1.865777           0.137881 -0.819430 -2.085731   \n",
       "2       1.932838   0.179993           0.137881 -0.180987 -0.586971   \n",
       "3      -0.078571   1.022885           1.311332  0.138234  0.204041   \n",
       "4      -0.078571   1.022885           1.311332  0.229440  0.204041   \n",
       "..           ...        ...                ...       ...       ...   \n",
       "200    -0.078571  -1.505791          -0.854299  1.369516  0.703628   \n",
       "201    -0.078571  -1.505791          -0.854299  1.323913  0.703628   \n",
       "202     1.932838  -1.505791          -0.854299  1.369516  0.703628   \n",
       "203    -0.078571  -1.505791          -0.854299  1.369516  0.703628   \n",
       "204    -0.078571  -1.505791          -0.854299  1.369516  0.703628   \n",
       "\n",
       "     engine-size  horsepower  city-mpg  highway-mpg  price      area  \n",
       "0       0.107166    0.221922 -0.680267    -0.585095  13495  1.709109  \n",
       "1       0.107166    0.221922 -0.680267    -0.585095  16500  1.709109  \n",
       "2       0.629880    1.316751 -0.985791    -0.730422  16500  0.106234  \n",
       "3      -0.391788   -0.007229 -0.221982    -0.149112  13950  0.028205  \n",
       "4       0.249724    0.323766 -1.138552    -1.311732  17450  0.046815  \n",
       "..           ...         ...       ...          ...    ...       ...  \n",
       "200     0.368523    0.298305 -0.374744    -0.439767  16845  0.963630  \n",
       "201     0.368523    1.469518 -0.985791    -0.875750  19045  0.931542  \n",
       "202     1.128833    0.807528 -1.138552    -1.166405  21485  0.963630  \n",
       "203     0.463562    0.094616  0.083542    -0.585095  22470  0.963630  \n",
       "204     0.368523    0.298305 -0.985791    -0.875750  22625  0.963630  \n",
       "\n",
       "[192 rows x 16 columns]"
      ]
     },
     "execution_count": 61,
     "metadata": {},
     "output_type": "execute_result"
    }
   ],
   "source": [
    "df_new['area']=df_new['width']*df_new['height']\n",
    "#new column as area ban jayegha dataset mei width and height column bhi rahegha data set mei\n",
    "#apne senior se baat kr ke we remove the column\n",
    "#aur yeh new column scaling ho ke milegha\n",
    "df_new"
   ]
  },
  {
   "cell_type": "code",
   "execution_count": null,
   "id": "5a3847e7",
   "metadata": {},
   "outputs": [],
   "source": []
  }
 ],
 "metadata": {
  "kernelspec": {
   "display_name": "Python 3 (ipykernel)",
   "language": "python",
   "name": "python3"
  },
  "language_info": {
   "codemirror_mode": {
    "name": "ipython",
    "version": 3
   },
   "file_extension": ".py",
   "mimetype": "text/x-python",
   "name": "python",
   "nbconvert_exporter": "python",
   "pygments_lexer": "ipython3",
   "version": "3.9.12"
  }
 },
 "nbformat": 4,
 "nbformat_minor": 5
}
